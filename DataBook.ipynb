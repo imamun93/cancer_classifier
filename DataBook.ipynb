{
 "cells": [
  {
   "cell_type": "code",
   "execution_count": 1,
   "metadata": {},
   "outputs": [
    {
     "name": "stderr",
     "output_type": "stream",
     "text": [
      "Using TensorFlow backend.\n"
     ]
    }
   ],
   "source": [
    "%matplotlib inline\n",
    "import matplotlib.pyplot as plt\n",
    "import numpy as np\n",
    "import pandas as pd\n",
    "import os\n",
    "from glob import glob\n",
    "import seaborn as sns\n",
    "from PIL import Image\n",
    "import itertools\n",
    "from keras.layers import BatchNormalization\n",
    "from keras.utils.np_utils import to_categorical \n",
    "import tensorflow as tf\n",
    "import keras\n",
    "from keras.models import Sequential\n",
    "from keras.layers import Convolution2D\n",
    "from keras.layers import MaxPooling2D\n",
    "from keras.layers import Flatten\n",
    "from keras.layers import Dense\n",
    "from keras.layers import Dropout\n",
    "from keras.layers import Convolution2D as Conv2D\n",
    "from keras.layers import MaxPool2D\n",
    "from keras.callbacks import ReduceLROnPlateau\n",
    "from keras.preprocessing.image import ImageDataGenerator\n",
    "import lightgbm\n",
    "from keras import optimizers\n",
    "from sklearn.model_selection import train_test_split, KFold\n",
    "from sklearn import preprocessing\n",
    "from sklearn.metrics import confusion_matrix\n",
    "from sklearn.decomposition import PCA\n",
    "import skimage.io\n",
    "from skimage.io import imread\n",
    "import pprint, pickle"
   ]
  },
  {
   "cell_type": "code",
   "execution_count": 2,
   "metadata": {},
   "outputs": [],
   "source": [
    "# imageid_path_dict = {os.path.splitext(os.path.basename(x))[0]: x\n",
    "#                      for x in glob(os.path.join(os.path.join('..', 'cancer_classifier'), '*', '*.jpg'))}"
   ]
  },
  {
   "cell_type": "code",
   "execution_count": 3,
   "metadata": {},
   "outputs": [],
   "source": [
    "# len(imageid_path_dict)"
   ]
  },
  {
   "cell_type": "code",
   "execution_count": 4,
   "metadata": {},
   "outputs": [],
   "source": [
    "# lesions = {\n",
    "#     'nv': 'Melanocytic nevi',\n",
    "#     'mel': 'dermatofibroma',\n",
    "#     'bkl': 'Benign keratosis-like lesions ',\n",
    "#     'bcc': 'Basal cell carcinoma',\n",
    "#     'akiec': 'Actinic keratoses',\n",
    "#     'vasc': 'Vascular lesions',\n",
    "#     'df': 'Dermatofibroma'\n",
    "# }"
   ]
  },
  {
   "cell_type": "code",
   "execution_count": 5,
   "metadata": {},
   "outputs": [],
   "source": [
    "# df = pd.read_csv(os.path.join(os.path.join('..', 'cancer_classifier'), 'HAM10000_metadata.csv')) #links image csv with main path\n",
    "# df['path'] = df['image_id'].map(imageid_path_dict.get) #links image path with df\n",
    "# df['cell_type'] = df['dx'].map(lesions.get) #combines with dictionary\n",
    "# df['cell_type_idx'] = pd.Categorical(df['cell_type']).codes #converts the lession types to categorical"
   ]
  },
  {
   "cell_type": "code",
   "execution_count": 6,
   "metadata": {},
   "outputs": [],
   "source": [
    "# df"
   ]
  },
  {
   "cell_type": "code",
   "execution_count": 7,
   "metadata": {},
   "outputs": [],
   "source": [
    "# df.columns"
   ]
  },
  {
   "cell_type": "code",
   "execution_count": 8,
   "metadata": {},
   "outputs": [],
   "source": [
    "# df.dtypes"
   ]
  },
  {
   "cell_type": "code",
   "execution_count": 9,
   "metadata": {},
   "outputs": [],
   "source": [
    "# df['age'].fillna((df['age'].mean()), inplace=True) #replace all null age with mean of population age\n",
    "# df.isnull().sum()"
   ]
  },
  {
   "cell_type": "code",
   "execution_count": 2,
   "metadata": {},
   "outputs": [
    {
     "data": {
      "text/html": [
       "<div>\n",
       "<style scoped>\n",
       "    .dataframe tbody tr th:only-of-type {\n",
       "        vertical-align: middle;\n",
       "    }\n",
       "\n",
       "    .dataframe tbody tr th {\n",
       "        vertical-align: top;\n",
       "    }\n",
       "\n",
       "    .dataframe thead th {\n",
       "        text-align: right;\n",
       "    }\n",
       "</style>\n",
       "<table border=\"1\" class=\"dataframe\">\n",
       "  <thead>\n",
       "    <tr style=\"text-align: right;\">\n",
       "      <th></th>\n",
       "      <th>lesion_id</th>\n",
       "      <th>image_id</th>\n",
       "      <th>dx</th>\n",
       "      <th>dx_type</th>\n",
       "      <th>age</th>\n",
       "      <th>sex</th>\n",
       "      <th>localization</th>\n",
       "      <th>path</th>\n",
       "      <th>cell_type</th>\n",
       "      <th>cell_type_idx</th>\n",
       "    </tr>\n",
       "  </thead>\n",
       "  <tbody>\n",
       "    <tr>\n",
       "      <td>0</td>\n",
       "      <td>HAM_0000118</td>\n",
       "      <td>ISIC_0027419</td>\n",
       "      <td>bkl</td>\n",
       "      <td>histo</td>\n",
       "      <td>80.0</td>\n",
       "      <td>male</td>\n",
       "      <td>scalp</td>\n",
       "      <td>../cancer_classifier/HAM10000_images_part_1/IS...</td>\n",
       "      <td>Benign keratosis-like lesions</td>\n",
       "      <td>2</td>\n",
       "    </tr>\n",
       "    <tr>\n",
       "      <td>1</td>\n",
       "      <td>HAM_0000118</td>\n",
       "      <td>ISIC_0025030</td>\n",
       "      <td>bkl</td>\n",
       "      <td>histo</td>\n",
       "      <td>80.0</td>\n",
       "      <td>male</td>\n",
       "      <td>scalp</td>\n",
       "      <td>../cancer_classifier/HAM10000_images_part_1/IS...</td>\n",
       "      <td>Benign keratosis-like lesions</td>\n",
       "      <td>2</td>\n",
       "    </tr>\n",
       "    <tr>\n",
       "      <td>2</td>\n",
       "      <td>HAM_0002730</td>\n",
       "      <td>ISIC_0026769</td>\n",
       "      <td>bkl</td>\n",
       "      <td>histo</td>\n",
       "      <td>80.0</td>\n",
       "      <td>male</td>\n",
       "      <td>scalp</td>\n",
       "      <td>../cancer_classifier/HAM10000_images_part_1/IS...</td>\n",
       "      <td>Benign keratosis-like lesions</td>\n",
       "      <td>2</td>\n",
       "    </tr>\n",
       "    <tr>\n",
       "      <td>3</td>\n",
       "      <td>HAM_0002730</td>\n",
       "      <td>ISIC_0025661</td>\n",
       "      <td>bkl</td>\n",
       "      <td>histo</td>\n",
       "      <td>80.0</td>\n",
       "      <td>male</td>\n",
       "      <td>scalp</td>\n",
       "      <td>../cancer_classifier/HAM10000_images_part_1/IS...</td>\n",
       "      <td>Benign keratosis-like lesions</td>\n",
       "      <td>2</td>\n",
       "    </tr>\n",
       "    <tr>\n",
       "      <td>4</td>\n",
       "      <td>HAM_0001466</td>\n",
       "      <td>ISIC_0031633</td>\n",
       "      <td>bkl</td>\n",
       "      <td>histo</td>\n",
       "      <td>75.0</td>\n",
       "      <td>male</td>\n",
       "      <td>ear</td>\n",
       "      <td>../cancer_classifier/HAM10000_images_part_2/IS...</td>\n",
       "      <td>Benign keratosis-like lesions</td>\n",
       "      <td>2</td>\n",
       "    </tr>\n",
       "    <tr>\n",
       "      <td>...</td>\n",
       "      <td>...</td>\n",
       "      <td>...</td>\n",
       "      <td>...</td>\n",
       "      <td>...</td>\n",
       "      <td>...</td>\n",
       "      <td>...</td>\n",
       "      <td>...</td>\n",
       "      <td>...</td>\n",
       "      <td>...</td>\n",
       "      <td>...</td>\n",
       "    </tr>\n",
       "    <tr>\n",
       "      <td>10010</td>\n",
       "      <td>HAM_0002867</td>\n",
       "      <td>ISIC_0033084</td>\n",
       "      <td>akiec</td>\n",
       "      <td>histo</td>\n",
       "      <td>40.0</td>\n",
       "      <td>male</td>\n",
       "      <td>abdomen</td>\n",
       "      <td>../cancer_classifier/HAM10000_images_part_2/IS...</td>\n",
       "      <td>Actinic keratoses</td>\n",
       "      <td>0</td>\n",
       "    </tr>\n",
       "    <tr>\n",
       "      <td>10011</td>\n",
       "      <td>HAM_0002867</td>\n",
       "      <td>ISIC_0033550</td>\n",
       "      <td>akiec</td>\n",
       "      <td>histo</td>\n",
       "      <td>40.0</td>\n",
       "      <td>male</td>\n",
       "      <td>abdomen</td>\n",
       "      <td>../cancer_classifier/HAM10000_images_part_2/IS...</td>\n",
       "      <td>Actinic keratoses</td>\n",
       "      <td>0</td>\n",
       "    </tr>\n",
       "    <tr>\n",
       "      <td>10012</td>\n",
       "      <td>HAM_0002867</td>\n",
       "      <td>ISIC_0033536</td>\n",
       "      <td>akiec</td>\n",
       "      <td>histo</td>\n",
       "      <td>40.0</td>\n",
       "      <td>male</td>\n",
       "      <td>abdomen</td>\n",
       "      <td>../cancer_classifier/HAM10000_images_part_2/IS...</td>\n",
       "      <td>Actinic keratoses</td>\n",
       "      <td>0</td>\n",
       "    </tr>\n",
       "    <tr>\n",
       "      <td>10013</td>\n",
       "      <td>HAM_0000239</td>\n",
       "      <td>ISIC_0032854</td>\n",
       "      <td>akiec</td>\n",
       "      <td>histo</td>\n",
       "      <td>80.0</td>\n",
       "      <td>male</td>\n",
       "      <td>face</td>\n",
       "      <td>../cancer_classifier/HAM10000_images_part_2/IS...</td>\n",
       "      <td>Actinic keratoses</td>\n",
       "      <td>0</td>\n",
       "    </tr>\n",
       "    <tr>\n",
       "      <td>10014</td>\n",
       "      <td>HAM_0003521</td>\n",
       "      <td>ISIC_0032258</td>\n",
       "      <td>mel</td>\n",
       "      <td>histo</td>\n",
       "      <td>70.0</td>\n",
       "      <td>female</td>\n",
       "      <td>back</td>\n",
       "      <td>../cancer_classifier/HAM10000_images_part_2/IS...</td>\n",
       "      <td>dermatofibroma</td>\n",
       "      <td>6</td>\n",
       "    </tr>\n",
       "  </tbody>\n",
       "</table>\n",
       "<p>10015 rows × 10 columns</p>\n",
       "</div>"
      ],
      "text/plain": [
       "         lesion_id      image_id     dx dx_type   age     sex localization  \\\n",
       "0      HAM_0000118  ISIC_0027419    bkl   histo  80.0    male        scalp   \n",
       "1      HAM_0000118  ISIC_0025030    bkl   histo  80.0    male        scalp   \n",
       "2      HAM_0002730  ISIC_0026769    bkl   histo  80.0    male        scalp   \n",
       "3      HAM_0002730  ISIC_0025661    bkl   histo  80.0    male        scalp   \n",
       "4      HAM_0001466  ISIC_0031633    bkl   histo  75.0    male          ear   \n",
       "...            ...           ...    ...     ...   ...     ...          ...   \n",
       "10010  HAM_0002867  ISIC_0033084  akiec   histo  40.0    male      abdomen   \n",
       "10011  HAM_0002867  ISIC_0033550  akiec   histo  40.0    male      abdomen   \n",
       "10012  HAM_0002867  ISIC_0033536  akiec   histo  40.0    male      abdomen   \n",
       "10013  HAM_0000239  ISIC_0032854  akiec   histo  80.0    male         face   \n",
       "10014  HAM_0003521  ISIC_0032258    mel   histo  70.0  female         back   \n",
       "\n",
       "                                                    path  \\\n",
       "0      ../cancer_classifier/HAM10000_images_part_1/IS...   \n",
       "1      ../cancer_classifier/HAM10000_images_part_1/IS...   \n",
       "2      ../cancer_classifier/HAM10000_images_part_1/IS...   \n",
       "3      ../cancer_classifier/HAM10000_images_part_1/IS...   \n",
       "4      ../cancer_classifier/HAM10000_images_part_2/IS...   \n",
       "...                                                  ...   \n",
       "10010  ../cancer_classifier/HAM10000_images_part_2/IS...   \n",
       "10011  ../cancer_classifier/HAM10000_images_part_2/IS...   \n",
       "10012  ../cancer_classifier/HAM10000_images_part_2/IS...   \n",
       "10013  ../cancer_classifier/HAM10000_images_part_2/IS...   \n",
       "10014  ../cancer_classifier/HAM10000_images_part_2/IS...   \n",
       "\n",
       "                            cell_type  cell_type_idx  \n",
       "0      Benign keratosis-like lesions               2  \n",
       "1      Benign keratosis-like lesions               2  \n",
       "2      Benign keratosis-like lesions               2  \n",
       "3      Benign keratosis-like lesions               2  \n",
       "4      Benign keratosis-like lesions               2  \n",
       "...                               ...            ...  \n",
       "10010               Actinic keratoses              0  \n",
       "10011               Actinic keratoses              0  \n",
       "10012               Actinic keratoses              0  \n",
       "10013               Actinic keratoses              0  \n",
       "10014                  dermatofibroma              6  \n",
       "\n",
       "[10015 rows x 10 columns]"
      ]
     },
     "execution_count": 2,
     "metadata": {},
     "output_type": "execute_result"
    }
   ],
   "source": [
    "# df.to_csv('2cancercell.csv', index=False)\n",
    "df= pd.read_csv('2cancercell.csv')\n",
    "df"
   ]
  },
  {
   "cell_type": "code",
   "execution_count": 11,
   "metadata": {},
   "outputs": [
    {
     "data": {
      "text/html": [
       "<div>\n",
       "<style scoped>\n",
       "    .dataframe tbody tr th:only-of-type {\n",
       "        vertical-align: middle;\n",
       "    }\n",
       "\n",
       "    .dataframe tbody tr th {\n",
       "        vertical-align: top;\n",
       "    }\n",
       "\n",
       "    .dataframe thead th {\n",
       "        text-align: right;\n",
       "    }\n",
       "</style>\n",
       "<table border=\"1\" class=\"dataframe\">\n",
       "  <thead>\n",
       "    <tr style=\"text-align: right;\">\n",
       "      <th></th>\n",
       "      <th>lesion_id</th>\n",
       "      <th>image_id</th>\n",
       "      <th>dx</th>\n",
       "      <th>dx_type</th>\n",
       "      <th>sex</th>\n",
       "      <th>localization</th>\n",
       "      <th>path</th>\n",
       "      <th>cell_type</th>\n",
       "    </tr>\n",
       "  </thead>\n",
       "  <tbody>\n",
       "    <tr>\n",
       "      <td>count</td>\n",
       "      <td>10015</td>\n",
       "      <td>10015</td>\n",
       "      <td>10015</td>\n",
       "      <td>10015</td>\n",
       "      <td>10015</td>\n",
       "      <td>10015</td>\n",
       "      <td>10015</td>\n",
       "      <td>10015</td>\n",
       "    </tr>\n",
       "    <tr>\n",
       "      <td>unique</td>\n",
       "      <td>7470</td>\n",
       "      <td>10015</td>\n",
       "      <td>7</td>\n",
       "      <td>4</td>\n",
       "      <td>3</td>\n",
       "      <td>15</td>\n",
       "      <td>10015</td>\n",
       "      <td>7</td>\n",
       "    </tr>\n",
       "    <tr>\n",
       "      <td>top</td>\n",
       "      <td>HAM_0003789</td>\n",
       "      <td>ISIC_0033044</td>\n",
       "      <td>nv</td>\n",
       "      <td>histo</td>\n",
       "      <td>male</td>\n",
       "      <td>back</td>\n",
       "      <td>../cancer_classifier/HAM10000_images_part_1/IS...</td>\n",
       "      <td>Melanocytic nevi</td>\n",
       "    </tr>\n",
       "    <tr>\n",
       "      <td>freq</td>\n",
       "      <td>6</td>\n",
       "      <td>1</td>\n",
       "      <td>6705</td>\n",
       "      <td>5340</td>\n",
       "      <td>5406</td>\n",
       "      <td>2192</td>\n",
       "      <td>1</td>\n",
       "      <td>6705</td>\n",
       "    </tr>\n",
       "  </tbody>\n",
       "</table>\n",
       "</div>"
      ],
      "text/plain": [
       "          lesion_id      image_id     dx dx_type    sex localization  \\\n",
       "count         10015         10015  10015   10015  10015        10015   \n",
       "unique         7470         10015      7       4      3           15   \n",
       "top     HAM_0003789  ISIC_0033044     nv   histo   male         back   \n",
       "freq              6             1   6705    5340   5406         2192   \n",
       "\n",
       "                                                     path         cell_type  \n",
       "count                                               10015             10015  \n",
       "unique                                              10015                 7  \n",
       "top     ../cancer_classifier/HAM10000_images_part_1/IS...  Melanocytic nevi  \n",
       "freq                                                    1              6705  "
      ]
     },
     "execution_count": 11,
     "metadata": {},
     "output_type": "execute_result"
    }
   ],
   "source": [
    "df.describe(exclude=[np.number])"
   ]
  },
  {
   "cell_type": "code",
   "execution_count": 12,
   "metadata": {},
   "outputs": [
    {
     "data": {
      "text/plain": [
       "<matplotlib.axes._subplots.AxesSubplot at 0x11a37a710>"
      ]
     },
     "execution_count": 12,
     "metadata": {},
     "output_type": "execute_result"
    },
    {
     "data": {
      "image/png": "[encoded data removed]",
      "text/plain": [
       "<Figure size 720x360 with 1 Axes>"
      ]
     },
     "metadata": {
      "needs_background": "light"
     },
     "output_type": "display_data"
    }
   ],
   "source": [
    "fig, ax1 = plt.subplots(1, 1, figsize = (10, 5))\n",
    "df['cell_type'].value_counts().plot(kind='bar', color=['orange', 'red', 'green', 'blue', 'cyan', 'pink', 'purple'])"
   ]
  },
  {
   "cell_type": "code",
   "execution_count": 13,
   "metadata": {},
   "outputs": [
    {
     "data": {
      "text/plain": [
       "<matplotlib.axes._subplots.AxesSubplot at 0x1c3a1a7550>"
      ]
     },
     "execution_count": 13,
     "metadata": {},
     "output_type": "execute_result"
    },
    {
     "data": {
      "image/png": "[encoded data removed]",
      "text/plain": [
       "<Figure size 432x288 with 1 Axes>"
      ]
     },
     "metadata": {
      "needs_background": "light"
     },
     "output_type": "display_data"
    }
   ],
   "source": [
    "df['dx_type'].value_counts().plot(kind='bar', color=['orange', 'red', 'green', 'blue'])"
   ]
  },
  {
   "cell_type": "code",
   "execution_count": 14,
   "metadata": {},
   "outputs": [
    {
     "data": {
      "text/plain": [
       "<matplotlib.axes._subplots.AxesSubplot at 0x1c3a446890>"
      ]
     },
     "execution_count": 14,
     "metadata": {},
     "output_type": "execute_result"
    },
    {
     "data": {
      "image/png": "[encoded data removed]",
      "text/plain": [
       "<Figure size 432x288 with 1 Axes>"
      ]
     },
     "metadata": {
      "needs_background": "light"
     },
     "output_type": "display_data"
    }
   ],
   "source": [
    "df['localization'].value_counts().plot(kind='bar', color=np.random.rand(3,4))"
   ]
  },
  {
   "cell_type": "code",
   "execution_count": 15,
   "metadata": {},
   "outputs": [
    {
     "data": {
      "text/plain": [
       "<matplotlib.axes._subplots.AxesSubplot at 0x1c3a2b1a50>"
      ]
     },
     "execution_count": 15,
     "metadata": {},
     "output_type": "execute_result"
    },
    {
     "data": {
      "image/png": "[encoded data removed]",
      "text/plain": [
       "<Figure size 432x288 with 1 Axes>"
      ]
     },
     "metadata": {
      "needs_background": "light"
     },
     "output_type": "display_data"
    }
   ],
   "source": [
    "df['age'].hist(bins=35)"
   ]
  },
  {
   "cell_type": "code",
   "execution_count": 16,
   "metadata": {},
   "outputs": [
    {
     "data": {
      "text/plain": [
       "<matplotlib.axes._subplots.AxesSubplot at 0x1c3a6bc610>"
      ]
     },
     "execution_count": 16,
     "metadata": {},
     "output_type": "execute_result"
    },
    {
     "data": {
      "image/png": "[encoded data removed]",
      "text/plain": [
       "<Figure size 432x288 with 1 Axes>"
      ]
     },
     "metadata": {
      "needs_background": "light"
     },
     "output_type": "display_data"
    }
   ],
   "source": [
    "df['sex'].value_counts().plot(kind='bar', color=['red', 'blue', 'yellow'])"
   ]
  },
  {
   "cell_type": "code",
   "execution_count": 3,
   "metadata": {
    "scrolled": true
   },
   "outputs": [
    {
     "data": {
      "text/html": [
       "<div>\n",
       "<style scoped>\n",
       "    .dataframe tbody tr th:only-of-type {\n",
       "        vertical-align: middle;\n",
       "    }\n",
       "\n",
       "    .dataframe tbody tr th {\n",
       "        vertical-align: top;\n",
       "    }\n",
       "\n",
       "    .dataframe thead th {\n",
       "        text-align: right;\n",
       "    }\n",
       "</style>\n",
       "<table border=\"1\" class=\"dataframe\">\n",
       "  <thead>\n",
       "    <tr style=\"text-align: right;\">\n",
       "      <th></th>\n",
       "      <th>lesion_id</th>\n",
       "      <th>image_id</th>\n",
       "      <th>dx</th>\n",
       "      <th>dx_type</th>\n",
       "      <th>age</th>\n",
       "      <th>sex</th>\n",
       "      <th>localization</th>\n",
       "      <th>path</th>\n",
       "      <th>cell_type</th>\n",
       "      <th>cell_type_idx</th>\n",
       "      <th>images</th>\n",
       "    </tr>\n",
       "  </thead>\n",
       "  <tbody>\n",
       "    <tr>\n",
       "      <td>0</td>\n",
       "      <td>HAM_0000118</td>\n",
       "      <td>ISIC_0027419</td>\n",
       "      <td>bkl</td>\n",
       "      <td>histo</td>\n",
       "      <td>80.0</td>\n",
       "      <td>male</td>\n",
       "      <td>scalp</td>\n",
       "      <td>../cancer_classifier/HAM10000_images_part_1/IS...</td>\n",
       "      <td>Benign keratosis-like lesions</td>\n",
       "      <td>2</td>\n",
       "      <td>[[[191, 153, 194], [191, 154, 198], [189, 152,...</td>\n",
       "    </tr>\n",
       "    <tr>\n",
       "      <td>1</td>\n",
       "      <td>HAM_0000118</td>\n",
       "      <td>ISIC_0025030</td>\n",
       "      <td>bkl</td>\n",
       "      <td>histo</td>\n",
       "      <td>80.0</td>\n",
       "      <td>male</td>\n",
       "      <td>scalp</td>\n",
       "      <td>../cancer_classifier/HAM10000_images_part_1/IS...</td>\n",
       "      <td>Benign keratosis-like lesions</td>\n",
       "      <td>2</td>\n",
       "      <td>[[[23, 13, 22], [25, 15, 24], [24, 16, 31], [3...</td>\n",
       "    </tr>\n",
       "    <tr>\n",
       "      <td>2</td>\n",
       "      <td>HAM_0002730</td>\n",
       "      <td>ISIC_0026769</td>\n",
       "      <td>bkl</td>\n",
       "      <td>histo</td>\n",
       "      <td>80.0</td>\n",
       "      <td>male</td>\n",
       "      <td>scalp</td>\n",
       "      <td>../cancer_classifier/HAM10000_images_part_1/IS...</td>\n",
       "      <td>Benign keratosis-like lesions</td>\n",
       "      <td>2</td>\n",
       "      <td>[[[186, 126, 136], [190, 136, 149], [195, 137,...</td>\n",
       "    </tr>\n",
       "    <tr>\n",
       "      <td>3</td>\n",
       "      <td>HAM_0002730</td>\n",
       "      <td>ISIC_0025661</td>\n",
       "      <td>bkl</td>\n",
       "      <td>histo</td>\n",
       "      <td>80.0</td>\n",
       "      <td>male</td>\n",
       "      <td>scalp</td>\n",
       "      <td>../cancer_classifier/HAM10000_images_part_1/IS...</td>\n",
       "      <td>Benign keratosis-like lesions</td>\n",
       "      <td>2</td>\n",
       "      <td>[[[24, 11, 18], [27, 13, 26], [39, 23, 33], [6...</td>\n",
       "    </tr>\n",
       "    <tr>\n",
       "      <td>4</td>\n",
       "      <td>HAM_0001466</td>\n",
       "      <td>ISIC_0031633</td>\n",
       "      <td>bkl</td>\n",
       "      <td>histo</td>\n",
       "      <td>75.0</td>\n",
       "      <td>male</td>\n",
       "      <td>ear</td>\n",
       "      <td>../cancer_classifier/HAM10000_images_part_2/IS...</td>\n",
       "      <td>Benign keratosis-like lesions</td>\n",
       "      <td>2</td>\n",
       "      <td>[[[136, 91, 114], [148, 104, 127], [161, 117, ...</td>\n",
       "    </tr>\n",
       "    <tr>\n",
       "      <td>...</td>\n",
       "      <td>...</td>\n",
       "      <td>...</td>\n",
       "      <td>...</td>\n",
       "      <td>...</td>\n",
       "      <td>...</td>\n",
       "      <td>...</td>\n",
       "      <td>...</td>\n",
       "      <td>...</td>\n",
       "      <td>...</td>\n",
       "      <td>...</td>\n",
       "      <td>...</td>\n",
       "    </tr>\n",
       "    <tr>\n",
       "      <td>10010</td>\n",
       "      <td>HAM_0002867</td>\n",
       "      <td>ISIC_0033084</td>\n",
       "      <td>akiec</td>\n",
       "      <td>histo</td>\n",
       "      <td>40.0</td>\n",
       "      <td>male</td>\n",
       "      <td>abdomen</td>\n",
       "      <td>../cancer_classifier/HAM10000_images_part_2/IS...</td>\n",
       "      <td>Actinic keratoses</td>\n",
       "      <td>0</td>\n",
       "      <td>[[[172, 155, 165], [170, 148, 160], [153, 139,...</td>\n",
       "    </tr>\n",
       "    <tr>\n",
       "      <td>10011</td>\n",
       "      <td>HAM_0002867</td>\n",
       "      <td>ISIC_0033550</td>\n",
       "      <td>akiec</td>\n",
       "      <td>histo</td>\n",
       "      <td>40.0</td>\n",
       "      <td>male</td>\n",
       "      <td>abdomen</td>\n",
       "      <td>../cancer_classifier/HAM10000_images_part_2/IS...</td>\n",
       "      <td>Actinic keratoses</td>\n",
       "      <td>0</td>\n",
       "      <td>[[[6, 6, 4], [7, 8, 3], [7, 9, 8], [9, 8, 6], ...</td>\n",
       "    </tr>\n",
       "    <tr>\n",
       "      <td>10012</td>\n",
       "      <td>HAM_0002867</td>\n",
       "      <td>ISIC_0033536</td>\n",
       "      <td>akiec</td>\n",
       "      <td>histo</td>\n",
       "      <td>40.0</td>\n",
       "      <td>male</td>\n",
       "      <td>abdomen</td>\n",
       "      <td>../cancer_classifier/HAM10000_images_part_2/IS...</td>\n",
       "      <td>Actinic keratoses</td>\n",
       "      <td>0</td>\n",
       "      <td>[[[114, 106, 104], [127, 121, 121], [140, 128,...</td>\n",
       "    </tr>\n",
       "    <tr>\n",
       "      <td>10013</td>\n",
       "      <td>HAM_0000239</td>\n",
       "      <td>ISIC_0032854</td>\n",
       "      <td>akiec</td>\n",
       "      <td>histo</td>\n",
       "      <td>80.0</td>\n",
       "      <td>male</td>\n",
       "      <td>face</td>\n",
       "      <td>../cancer_classifier/HAM10000_images_part_2/IS...</td>\n",
       "      <td>Actinic keratoses</td>\n",
       "      <td>0</td>\n",
       "      <td>[[[159, 125, 149], [158, 125, 142], [152, 107,...</td>\n",
       "    </tr>\n",
       "    <tr>\n",
       "      <td>10014</td>\n",
       "      <td>HAM_0003521</td>\n",
       "      <td>ISIC_0032258</td>\n",
       "      <td>mel</td>\n",
       "      <td>histo</td>\n",
       "      <td>70.0</td>\n",
       "      <td>female</td>\n",
       "      <td>back</td>\n",
       "      <td>../cancer_classifier/HAM10000_images_part_2/IS...</td>\n",
       "      <td>dermatofibroma</td>\n",
       "      <td>6</td>\n",
       "      <td>[[[180, 152, 141], [174, 142, 131], [179, 147,...</td>\n",
       "    </tr>\n",
       "  </tbody>\n",
       "</table>\n",
       "<p>10015 rows × 11 columns</p>\n",
       "</div>"
      ],
      "text/plain": [
       "         lesion_id      image_id     dx dx_type   age     sex localization  \\\n",
       "0      HAM_0000118  ISIC_0027419    bkl   histo  80.0    male        scalp   \n",
       "1      HAM_0000118  ISIC_0025030    bkl   histo  80.0    male        scalp   \n",
       "2      HAM_0002730  ISIC_0026769    bkl   histo  80.0    male        scalp   \n",
       "3      HAM_0002730  ISIC_0025661    bkl   histo  80.0    male        scalp   \n",
       "4      HAM_0001466  ISIC_0031633    bkl   histo  75.0    male          ear   \n",
       "...            ...           ...    ...     ...   ...     ...          ...   \n",
       "10010  HAM_0002867  ISIC_0033084  akiec   histo  40.0    male      abdomen   \n",
       "10011  HAM_0002867  ISIC_0033550  akiec   histo  40.0    male      abdomen   \n",
       "10012  HAM_0002867  ISIC_0033536  akiec   histo  40.0    male      abdomen   \n",
       "10013  HAM_0000239  ISIC_0032854  akiec   histo  80.0    male         face   \n",
       "10014  HAM_0003521  ISIC_0032258    mel   histo  70.0  female         back   \n",
       "\n",
       "                                                    path  \\\n",
       "0      ../cancer_classifier/HAM10000_images_part_1/IS...   \n",
       "1      ../cancer_classifier/HAM10000_images_part_1/IS...   \n",
       "2      ../cancer_classifier/HAM10000_images_part_1/IS...   \n",
       "3      ../cancer_classifier/HAM10000_images_part_1/IS...   \n",
       "4      ../cancer_classifier/HAM10000_images_part_2/IS...   \n",
       "...                                                  ...   \n",
       "10010  ../cancer_classifier/HAM10000_images_part_2/IS...   \n",
       "10011  ../cancer_classifier/HAM10000_images_part_2/IS...   \n",
       "10012  ../cancer_classifier/HAM10000_images_part_2/IS...   \n",
       "10013  ../cancer_classifier/HAM10000_images_part_2/IS...   \n",
       "10014  ../cancer_classifier/HAM10000_images_part_2/IS...   \n",
       "\n",
       "                            cell_type  cell_type_idx  \\\n",
       "0      Benign keratosis-like lesions               2   \n",
       "1      Benign keratosis-like lesions               2   \n",
       "2      Benign keratosis-like lesions               2   \n",
       "3      Benign keratosis-like lesions               2   \n",
       "4      Benign keratosis-like lesions               2   \n",
       "...                               ...            ...   \n",
       "10010               Actinic keratoses              0   \n",
       "10011               Actinic keratoses              0   \n",
       "10012               Actinic keratoses              0   \n",
       "10013               Actinic keratoses              0   \n",
       "10014                  dermatofibroma              6   \n",
       "\n",
       "                                                  images  \n",
       "0      [[[191, 153, 194], [191, 154, 198], [189, 152,...  \n",
       "1      [[[23, 13, 22], [25, 15, 24], [24, 16, 31], [3...  \n",
       "2      [[[186, 126, 136], [190, 136, 149], [195, 137,...  \n",
       "3      [[[24, 11, 18], [27, 13, 26], [39, 23, 33], [6...  \n",
       "4      [[[136, 91, 114], [148, 104, 127], [161, 117, ...  \n",
       "...                                                  ...  \n",
       "10010  [[[172, 155, 165], [170, 148, 160], [153, 139,...  \n",
       "10011  [[[6, 6, 4], [7, 8, 3], [7, 9, 8], [9, 8, 6], ...  \n",
       "10012  [[[114, 106, 104], [127, 121, 121], [140, 128,...  \n",
       "10013  [[[159, 125, 149], [158, 125, 142], [152, 107,...  \n",
       "10014  [[[180, 152, 141], [174, 142, 131], [179, 147,...  \n",
       "\n",
       "[10015 rows x 11 columns]"
      ]
     },
     "execution_count": 3,
     "metadata": {},
     "output_type": "execute_result"
    }
   ],
   "source": [
    "#change shape so tensorflow can handle the images\n",
    "df['images']= df['path'].map((lambda x: np.asarray(Image.open(x).resize((100,75)))))\n",
    "df"
   ]
  },
  {
   "cell_type": "code",
   "execution_count": 18,
   "metadata": {},
   "outputs": [
    {
     "data": {
      "text/plain": [
       "0        [[[191, 153, 194], [191, 154, 198], [189, 152,...\n",
       "1        [[[23, 13, 22], [25, 15, 24], [24, 16, 31], [3...\n",
       "2        [[[186, 126, 136], [190, 136, 149], [195, 137,...\n",
       "3        [[[24, 11, 18], [27, 13, 26], [39, 23, 33], [6...\n",
       "4        [[[136, 91, 114], [148, 104, 127], [161, 117, ...\n",
       "                               ...                        \n",
       "10010    [[[172, 155, 165], [170, 148, 160], [153, 139,...\n",
       "10011    [[[6, 6, 4], [7, 8, 3], [7, 9, 8], [9, 8, 6], ...\n",
       "10012    [[[114, 106, 104], [127, 121, 121], [140, 128,...\n",
       "10013    [[[159, 125, 149], [158, 125, 142], [152, 107,...\n",
       "10014    [[[180, 152, 141], [174, 142, 131], [179, 147,...\n",
       "Name: images, Length: 10015, dtype: object"
      ]
     },
     "execution_count": 18,
     "metadata": {},
     "output_type": "execute_result"
    }
   ],
   "source": [
    "df['images']"
   ]
  },
  {
   "cell_type": "code",
   "execution_count": 19,
   "metadata": {},
   "outputs": [],
   "source": [
    "# n_samples = 5\n",
    "# fig, m_axs = plt.subplots(7, n_samples, figsize = (4*n_samples, 3*7))\n",
    "# for n_axs, (type_name, type_rows) in zip(m_axs, \n",
    "#                                          df.sort_values(['cell_type']).groupby('cell_type')):\n",
    "#     n_axs[0].set_title(type_name)\n",
    "#     for c_ax, (_, c_row) in zip(n_axs, type_rows.sample(n_samples, random_state=2018).iterrows()):\n",
    "#         c_ax.imshow(c_row['images'])\n",
    "#         c_ax.axis('off')\n",
    "# fig.savefig('category_samples.png', dpi=300)"
   ]
  },
  {
   "cell_type": "code",
   "execution_count": 20,
   "metadata": {},
   "outputs": [
    {
     "data": {
      "text/plain": [
       "(75, 100, 3)    10015\n",
       "Name: images, dtype: int64"
      ]
     },
     "execution_count": 20,
     "metadata": {},
     "output_type": "execute_result"
    }
   ],
   "source": [
    "df['images'].map(lambda x: x.shape).value_counts()"
   ]
  },
  {
   "cell_type": "code",
   "execution_count": 21,
   "metadata": {},
   "outputs": [],
   "source": [
    "#save the df with images into a pickle\n",
    "# output = open('df-image.pkl', 'wb') #write a file larger than 4 gb\n",
    "# pickle.dump(df, output, protocol=4)\n",
    "# output.close()"
   ]
  },
  {
   "cell_type": "code",
   "execution_count": 22,
   "metadata": {},
   "outputs": [],
   "source": [
    "#to read the file:\n",
    "pkl_file = open('df-image.pkl', 'rb') #read\n",
    "\n",
    "df = pickle.load(pkl_file)\n",
    "\n",
    "pkl_file.close()"
   ]
  },
  {
   "cell_type": "code",
   "execution_count": 23,
   "metadata": {
    "scrolled": true
   },
   "outputs": [
    {
     "data": {
      "text/html": [
       "<div>\n",
       "<style scoped>\n",
       "    .dataframe tbody tr th:only-of-type {\n",
       "        vertical-align: middle;\n",
       "    }\n",
       "\n",
       "    .dataframe tbody tr th {\n",
       "        vertical-align: top;\n",
       "    }\n",
       "\n",
       "    .dataframe thead th {\n",
       "        text-align: right;\n",
       "    }\n",
       "</style>\n",
       "<table border=\"1\" class=\"dataframe\">\n",
       "  <thead>\n",
       "    <tr style=\"text-align: right;\">\n",
       "      <th></th>\n",
       "      <th>lesion_id</th>\n",
       "      <th>image_id</th>\n",
       "      <th>dx</th>\n",
       "      <th>dx_type</th>\n",
       "      <th>age</th>\n",
       "      <th>sex</th>\n",
       "      <th>localization</th>\n",
       "      <th>path</th>\n",
       "      <th>cell_type</th>\n",
       "      <th>cell_type_idx</th>\n",
       "      <th>images</th>\n",
       "    </tr>\n",
       "  </thead>\n",
       "  <tbody>\n",
       "    <tr>\n",
       "      <td>0</td>\n",
       "      <td>HAM_0000118</td>\n",
       "      <td>ISIC_0027419</td>\n",
       "      <td>bkl</td>\n",
       "      <td>histo</td>\n",
       "      <td>80.0</td>\n",
       "      <td>male</td>\n",
       "      <td>scalp</td>\n",
       "      <td>../cancer_classifier/HAM10000_images_part_1/IS...</td>\n",
       "      <td>Benign keratosis-like lesions</td>\n",
       "      <td>2</td>\n",
       "      <td>[[[191, 153, 194], [191, 154, 198], [189, 152,...</td>\n",
       "    </tr>\n",
       "    <tr>\n",
       "      <td>1</td>\n",
       "      <td>HAM_0000118</td>\n",
       "      <td>ISIC_0025030</td>\n",
       "      <td>bkl</td>\n",
       "      <td>histo</td>\n",
       "      <td>80.0</td>\n",
       "      <td>male</td>\n",
       "      <td>scalp</td>\n",
       "      <td>../cancer_classifier/HAM10000_images_part_1/IS...</td>\n",
       "      <td>Benign keratosis-like lesions</td>\n",
       "      <td>2</td>\n",
       "      <td>[[[23, 13, 22], [25, 15, 24], [24, 16, 31], [3...</td>\n",
       "    </tr>\n",
       "    <tr>\n",
       "      <td>2</td>\n",
       "      <td>HAM_0002730</td>\n",
       "      <td>ISIC_0026769</td>\n",
       "      <td>bkl</td>\n",
       "      <td>histo</td>\n",
       "      <td>80.0</td>\n",
       "      <td>male</td>\n",
       "      <td>scalp</td>\n",
       "      <td>../cancer_classifier/HAM10000_images_part_1/IS...</td>\n",
       "      <td>Benign keratosis-like lesions</td>\n",
       "      <td>2</td>\n",
       "      <td>[[[186, 126, 136], [190, 136, 149], [195, 137,...</td>\n",
       "    </tr>\n",
       "    <tr>\n",
       "      <td>3</td>\n",
       "      <td>HAM_0002730</td>\n",
       "      <td>ISIC_0025661</td>\n",
       "      <td>bkl</td>\n",
       "      <td>histo</td>\n",
       "      <td>80.0</td>\n",
       "      <td>male</td>\n",
       "      <td>scalp</td>\n",
       "      <td>../cancer_classifier/HAM10000_images_part_1/IS...</td>\n",
       "      <td>Benign keratosis-like lesions</td>\n",
       "      <td>2</td>\n",
       "      <td>[[[24, 11, 18], [27, 13, 26], [39, 23, 33], [6...</td>\n",
       "    </tr>\n",
       "    <tr>\n",
       "      <td>4</td>\n",
       "      <td>HAM_0001466</td>\n",
       "      <td>ISIC_0031633</td>\n",
       "      <td>bkl</td>\n",
       "      <td>histo</td>\n",
       "      <td>75.0</td>\n",
       "      <td>male</td>\n",
       "      <td>ear</td>\n",
       "      <td>../cancer_classifier/HAM10000_images_part_2/IS...</td>\n",
       "      <td>Benign keratosis-like lesions</td>\n",
       "      <td>2</td>\n",
       "      <td>[[[136, 91, 114], [148, 104, 127], [161, 117, ...</td>\n",
       "    </tr>\n",
       "  </tbody>\n",
       "</table>\n",
       "</div>"
      ],
      "text/plain": [
       "     lesion_id      image_id   dx dx_type   age   sex localization  \\\n",
       "0  HAM_0000118  ISIC_0027419  bkl   histo  80.0  male        scalp   \n",
       "1  HAM_0000118  ISIC_0025030  bkl   histo  80.0  male        scalp   \n",
       "2  HAM_0002730  ISIC_0026769  bkl   histo  80.0  male        scalp   \n",
       "3  HAM_0002730  ISIC_0025661  bkl   histo  80.0  male        scalp   \n",
       "4  HAM_0001466  ISIC_0031633  bkl   histo  75.0  male          ear   \n",
       "\n",
       "                                                path  \\\n",
       "0  ../cancer_classifier/HAM10000_images_part_1/IS...   \n",
       "1  ../cancer_classifier/HAM10000_images_part_1/IS...   \n",
       "2  ../cancer_classifier/HAM10000_images_part_1/IS...   \n",
       "3  ../cancer_classifier/HAM10000_images_part_1/IS...   \n",
       "4  ../cancer_classifier/HAM10000_images_part_2/IS...   \n",
       "\n",
       "                        cell_type  cell_type_idx  \\\n",
       "0  Benign keratosis-like lesions               2   \n",
       "1  Benign keratosis-like lesions               2   \n",
       "2  Benign keratosis-like lesions               2   \n",
       "3  Benign keratosis-like lesions               2   \n",
       "4  Benign keratosis-like lesions               2   \n",
       "\n",
       "                                              images  \n",
       "0  [[[191, 153, 194], [191, 154, 198], [189, 152,...  \n",
       "1  [[[23, 13, 22], [25, 15, 24], [24, 16, 31], [3...  \n",
       "2  [[[186, 126, 136], [190, 136, 149], [195, 137,...  \n",
       "3  [[[24, 11, 18], [27, 13, 26], [39, 23, 33], [6...  \n",
       "4  [[[136, 91, 114], [148, 104, 127], [161, 117, ...  "
      ]
     },
     "execution_count": 23,
     "metadata": {},
     "output_type": "execute_result"
    }
   ],
   "source": [
    "df.head()"
   ]
  },
  {
   "cell_type": "code",
   "execution_count": 24,
   "metadata": {},
   "outputs": [
    {
     "data": {
      "text/plain": [
       "lesion_id         object\n",
       "image_id          object\n",
       "dx                object\n",
       "dx_type           object\n",
       "age              float64\n",
       "sex               object\n",
       "localization      object\n",
       "path              object\n",
       "cell_type         object\n",
       "cell_type_idx      int64\n",
       "images            object\n",
       "dtype: object"
      ]
     },
     "execution_count": 24,
     "metadata": {},
     "output_type": "execute_result"
    }
   ],
   "source": [
    "df.dtypes"
   ]
  },
  {
   "cell_type": "code",
   "execution_count": 4,
   "metadata": {},
   "outputs": [
    {
     "data": {
      "text/html": [
       "<div>\n",
       "<style scoped>\n",
       "    .dataframe tbody tr th:only-of-type {\n",
       "        vertical-align: middle;\n",
       "    }\n",
       "\n",
       "    .dataframe tbody tr th {\n",
       "        vertical-align: top;\n",
       "    }\n",
       "\n",
       "    .dataframe thead th {\n",
       "        text-align: right;\n",
       "    }\n",
       "</style>\n",
       "<table border=\"1\" class=\"dataframe\">\n",
       "  <thead>\n",
       "    <tr style=\"text-align: right;\">\n",
       "      <th></th>\n",
       "      <th>dx</th>\n",
       "      <th>dx_type</th>\n",
       "      <th>age</th>\n",
       "      <th>sex</th>\n",
       "      <th>localization</th>\n",
       "      <th>cell_type</th>\n",
       "      <th>cell_type_idx</th>\n",
       "      <th>images</th>\n",
       "    </tr>\n",
       "  </thead>\n",
       "  <tbody>\n",
       "    <tr>\n",
       "      <td>0</td>\n",
       "      <td>bkl</td>\n",
       "      <td>histo</td>\n",
       "      <td>80.0</td>\n",
       "      <td>male</td>\n",
       "      <td>scalp</td>\n",
       "      <td>Benign keratosis-like lesions</td>\n",
       "      <td>2</td>\n",
       "      <td>[[[191, 153, 194], [191, 154, 198], [189, 152,...</td>\n",
       "    </tr>\n",
       "    <tr>\n",
       "      <td>1</td>\n",
       "      <td>bkl</td>\n",
       "      <td>histo</td>\n",
       "      <td>80.0</td>\n",
       "      <td>male</td>\n",
       "      <td>scalp</td>\n",
       "      <td>Benign keratosis-like lesions</td>\n",
       "      <td>2</td>\n",
       "      <td>[[[23, 13, 22], [25, 15, 24], [24, 16, 31], [3...</td>\n",
       "    </tr>\n",
       "    <tr>\n",
       "      <td>2</td>\n",
       "      <td>bkl</td>\n",
       "      <td>histo</td>\n",
       "      <td>80.0</td>\n",
       "      <td>male</td>\n",
       "      <td>scalp</td>\n",
       "      <td>Benign keratosis-like lesions</td>\n",
       "      <td>2</td>\n",
       "      <td>[[[186, 126, 136], [190, 136, 149], [195, 137,...</td>\n",
       "    </tr>\n",
       "    <tr>\n",
       "      <td>3</td>\n",
       "      <td>bkl</td>\n",
       "      <td>histo</td>\n",
       "      <td>80.0</td>\n",
       "      <td>male</td>\n",
       "      <td>scalp</td>\n",
       "      <td>Benign keratosis-like lesions</td>\n",
       "      <td>2</td>\n",
       "      <td>[[[24, 11, 18], [27, 13, 26], [39, 23, 33], [6...</td>\n",
       "    </tr>\n",
       "    <tr>\n",
       "      <td>4</td>\n",
       "      <td>bkl</td>\n",
       "      <td>histo</td>\n",
       "      <td>75.0</td>\n",
       "      <td>male</td>\n",
       "      <td>ear</td>\n",
       "      <td>Benign keratosis-like lesions</td>\n",
       "      <td>2</td>\n",
       "      <td>[[[136, 91, 114], [148, 104, 127], [161, 117, ...</td>\n",
       "    </tr>\n",
       "    <tr>\n",
       "      <td>...</td>\n",
       "      <td>...</td>\n",
       "      <td>...</td>\n",
       "      <td>...</td>\n",
       "      <td>...</td>\n",
       "      <td>...</td>\n",
       "      <td>...</td>\n",
       "      <td>...</td>\n",
       "      <td>...</td>\n",
       "    </tr>\n",
       "    <tr>\n",
       "      <td>10010</td>\n",
       "      <td>akiec</td>\n",
       "      <td>histo</td>\n",
       "      <td>40.0</td>\n",
       "      <td>male</td>\n",
       "      <td>abdomen</td>\n",
       "      <td>Actinic keratoses</td>\n",
       "      <td>0</td>\n",
       "      <td>[[[172, 155, 165], [170, 148, 160], [153, 139,...</td>\n",
       "    </tr>\n",
       "    <tr>\n",
       "      <td>10011</td>\n",
       "      <td>akiec</td>\n",
       "      <td>histo</td>\n",
       "      <td>40.0</td>\n",
       "      <td>male</td>\n",
       "      <td>abdomen</td>\n",
       "      <td>Actinic keratoses</td>\n",
       "      <td>0</td>\n",
       "      <td>[[[6, 6, 4], [7, 8, 3], [7, 9, 8], [9, 8, 6], ...</td>\n",
       "    </tr>\n",
       "    <tr>\n",
       "      <td>10012</td>\n",
       "      <td>akiec</td>\n",
       "      <td>histo</td>\n",
       "      <td>40.0</td>\n",
       "      <td>male</td>\n",
       "      <td>abdomen</td>\n",
       "      <td>Actinic keratoses</td>\n",
       "      <td>0</td>\n",
       "      <td>[[[114, 106, 104], [127, 121, 121], [140, 128,...</td>\n",
       "    </tr>\n",
       "    <tr>\n",
       "      <td>10013</td>\n",
       "      <td>akiec</td>\n",
       "      <td>histo</td>\n",
       "      <td>80.0</td>\n",
       "      <td>male</td>\n",
       "      <td>face</td>\n",
       "      <td>Actinic keratoses</td>\n",
       "      <td>0</td>\n",
       "      <td>[[[159, 125, 149], [158, 125, 142], [152, 107,...</td>\n",
       "    </tr>\n",
       "    <tr>\n",
       "      <td>10014</td>\n",
       "      <td>mel</td>\n",
       "      <td>histo</td>\n",
       "      <td>70.0</td>\n",
       "      <td>female</td>\n",
       "      <td>back</td>\n",
       "      <td>dermatofibroma</td>\n",
       "      <td>6</td>\n",
       "      <td>[[[180, 152, 141], [174, 142, 131], [179, 147,...</td>\n",
       "    </tr>\n",
       "  </tbody>\n",
       "</table>\n",
       "<p>10015 rows × 8 columns</p>\n",
       "</div>"
      ],
      "text/plain": [
       "          dx dx_type   age     sex localization  \\\n",
       "0        bkl   histo  80.0    male        scalp   \n",
       "1        bkl   histo  80.0    male        scalp   \n",
       "2        bkl   histo  80.0    male        scalp   \n",
       "3        bkl   histo  80.0    male        scalp   \n",
       "4        bkl   histo  75.0    male          ear   \n",
       "...      ...     ...   ...     ...          ...   \n",
       "10010  akiec   histo  40.0    male      abdomen   \n",
       "10011  akiec   histo  40.0    male      abdomen   \n",
       "10012  akiec   histo  40.0    male      abdomen   \n",
       "10013  akiec   histo  80.0    male         face   \n",
       "10014    mel   histo  70.0  female         back   \n",
       "\n",
       "                            cell_type  cell_type_idx  \\\n",
       "0      Benign keratosis-like lesions               2   \n",
       "1      Benign keratosis-like lesions               2   \n",
       "2      Benign keratosis-like lesions               2   \n",
       "3      Benign keratosis-like lesions               2   \n",
       "4      Benign keratosis-like lesions               2   \n",
       "...                               ...            ...   \n",
       "10010               Actinic keratoses              0   \n",
       "10011               Actinic keratoses              0   \n",
       "10012               Actinic keratoses              0   \n",
       "10013               Actinic keratoses              0   \n",
       "10014                  dermatofibroma              6   \n",
       "\n",
       "                                                  images  \n",
       "0      [[[191, 153, 194], [191, 154, 198], [189, 152,...  \n",
       "1      [[[23, 13, 22], [25, 15, 24], [24, 16, 31], [3...  \n",
       "2      [[[186, 126, 136], [190, 136, 149], [195, 137,...  \n",
       "3      [[[24, 11, 18], [27, 13, 26], [39, 23, 33], [6...  \n",
       "4      [[[136, 91, 114], [148, 104, 127], [161, 117, ...  \n",
       "...                                                  ...  \n",
       "10010  [[[172, 155, 165], [170, 148, 160], [153, 139,...  \n",
       "10011  [[[6, 6, 4], [7, 8, 3], [7, 9, 8], [9, 8, 6], ...  \n",
       "10012  [[[114, 106, 104], [127, 121, 121], [140, 128,...  \n",
       "10013  [[[159, 125, 149], [158, 125, 142], [152, 107,...  \n",
       "10014  [[[180, 152, 141], [174, 142, 131], [179, 147,...  \n",
       "\n",
       "[10015 rows x 8 columns]"
      ]
     },
     "execution_count": 4,
     "metadata": {},
     "output_type": "execute_result"
    }
   ],
   "source": [
    "df= df.drop(['lesion_id', 'image_id', 'path'], axis=1)\n",
    "df"
   ]
  },
  {
   "cell_type": "code",
   "execution_count": 5,
   "metadata": {},
   "outputs": [],
   "source": [
    "#dummy encoding thanks to stackflow\n",
    "def encode_and_bind(original_dataframe, feature_to_encode):\n",
    "    dummies = pd.get_dummies(original_dataframe[[feature_to_encode]])\n",
    "    res = pd.concat([original_dataframe, dummies], axis=1)\n",
    "    res = res.drop([feature_to_encode], axis=1)\n",
    "    return(res)"
   ]
  },
  {
   "cell_type": "code",
   "execution_count": 6,
   "metadata": {},
   "outputs": [
    {
     "data": {
      "text/html": [
       "<div>\n",
       "<style scoped>\n",
       "    .dataframe tbody tr th:only-of-type {\n",
       "        vertical-align: middle;\n",
       "    }\n",
       "\n",
       "    .dataframe tbody tr th {\n",
       "        vertical-align: top;\n",
       "    }\n",
       "\n",
       "    .dataframe thead th {\n",
       "        text-align: right;\n",
       "    }\n",
       "</style>\n",
       "<table border=\"1\" class=\"dataframe\">\n",
       "  <thead>\n",
       "    <tr style=\"text-align: right;\">\n",
       "      <th></th>\n",
       "      <th>age</th>\n",
       "      <th>cell_type_idx</th>\n",
       "      <th>images</th>\n",
       "      <th>dx_akiec</th>\n",
       "      <th>dx_bcc</th>\n",
       "      <th>dx_bkl</th>\n",
       "      <th>dx_df</th>\n",
       "      <th>dx_mel</th>\n",
       "      <th>dx_nv</th>\n",
       "      <th>dx_vasc</th>\n",
       "      <th>...</th>\n",
       "      <th>localization_trunk</th>\n",
       "      <th>localization_unknown</th>\n",
       "      <th>localization_upper extremity</th>\n",
       "      <th>cell_type_Actinic keratoses</th>\n",
       "      <th>cell_type_Basal cell carcinoma</th>\n",
       "      <th>cell_type_Benign keratosis-like lesions</th>\n",
       "      <th>cell_type_Dermatofibroma</th>\n",
       "      <th>cell_type_Melanocytic nevi</th>\n",
       "      <th>cell_type_Vascular lesions</th>\n",
       "      <th>cell_type_dermatofibroma</th>\n",
       "    </tr>\n",
       "  </thead>\n",
       "  <tbody>\n",
       "    <tr>\n",
       "      <td>0</td>\n",
       "      <td>80.0</td>\n",
       "      <td>2</td>\n",
       "      <td>[[[191, 153, 194], [191, 154, 198], [189, 152,...</td>\n",
       "      <td>0</td>\n",
       "      <td>0</td>\n",
       "      <td>1</td>\n",
       "      <td>0</td>\n",
       "      <td>0</td>\n",
       "      <td>0</td>\n",
       "      <td>0</td>\n",
       "      <td>...</td>\n",
       "      <td>0</td>\n",
       "      <td>0</td>\n",
       "      <td>0</td>\n",
       "      <td>0</td>\n",
       "      <td>0</td>\n",
       "      <td>1</td>\n",
       "      <td>0</td>\n",
       "      <td>0</td>\n",
       "      <td>0</td>\n",
       "      <td>0</td>\n",
       "    </tr>\n",
       "    <tr>\n",
       "      <td>1</td>\n",
       "      <td>80.0</td>\n",
       "      <td>2</td>\n",
       "      <td>[[[23, 13, 22], [25, 15, 24], [24, 16, 31], [3...</td>\n",
       "      <td>0</td>\n",
       "      <td>0</td>\n",
       "      <td>1</td>\n",
       "      <td>0</td>\n",
       "      <td>0</td>\n",
       "      <td>0</td>\n",
       "      <td>0</td>\n",
       "      <td>...</td>\n",
       "      <td>0</td>\n",
       "      <td>0</td>\n",
       "      <td>0</td>\n",
       "      <td>0</td>\n",
       "      <td>0</td>\n",
       "      <td>1</td>\n",
       "      <td>0</td>\n",
       "      <td>0</td>\n",
       "      <td>0</td>\n",
       "      <td>0</td>\n",
       "    </tr>\n",
       "    <tr>\n",
       "      <td>2</td>\n",
       "      <td>80.0</td>\n",
       "      <td>2</td>\n",
       "      <td>[[[186, 126, 136], [190, 136, 149], [195, 137,...</td>\n",
       "      <td>0</td>\n",
       "      <td>0</td>\n",
       "      <td>1</td>\n",
       "      <td>0</td>\n",
       "      <td>0</td>\n",
       "      <td>0</td>\n",
       "      <td>0</td>\n",
       "      <td>...</td>\n",
       "      <td>0</td>\n",
       "      <td>0</td>\n",
       "      <td>0</td>\n",
       "      <td>0</td>\n",
       "      <td>0</td>\n",
       "      <td>1</td>\n",
       "      <td>0</td>\n",
       "      <td>0</td>\n",
       "      <td>0</td>\n",
       "      <td>0</td>\n",
       "    </tr>\n",
       "    <tr>\n",
       "      <td>3</td>\n",
       "      <td>80.0</td>\n",
       "      <td>2</td>\n",
       "      <td>[[[24, 11, 18], [27, 13, 26], [39, 23, 33], [6...</td>\n",
       "      <td>0</td>\n",
       "      <td>0</td>\n",
       "      <td>1</td>\n",
       "      <td>0</td>\n",
       "      <td>0</td>\n",
       "      <td>0</td>\n",
       "      <td>0</td>\n",
       "      <td>...</td>\n",
       "      <td>0</td>\n",
       "      <td>0</td>\n",
       "      <td>0</td>\n",
       "      <td>0</td>\n",
       "      <td>0</td>\n",
       "      <td>1</td>\n",
       "      <td>0</td>\n",
       "      <td>0</td>\n",
       "      <td>0</td>\n",
       "      <td>0</td>\n",
       "    </tr>\n",
       "    <tr>\n",
       "      <td>4</td>\n",
       "      <td>75.0</td>\n",
       "      <td>2</td>\n",
       "      <td>[[[136, 91, 114], [148, 104, 127], [161, 117, ...</td>\n",
       "      <td>0</td>\n",
       "      <td>0</td>\n",
       "      <td>1</td>\n",
       "      <td>0</td>\n",
       "      <td>0</td>\n",
       "      <td>0</td>\n",
       "      <td>0</td>\n",
       "      <td>...</td>\n",
       "      <td>0</td>\n",
       "      <td>0</td>\n",
       "      <td>0</td>\n",
       "      <td>0</td>\n",
       "      <td>0</td>\n",
       "      <td>1</td>\n",
       "      <td>0</td>\n",
       "      <td>0</td>\n",
       "      <td>0</td>\n",
       "      <td>0</td>\n",
       "    </tr>\n",
       "  </tbody>\n",
       "</table>\n",
       "<p>5 rows × 39 columns</p>\n",
       "</div>"
      ],
      "text/plain": [
       "    age  cell_type_idx                                             images  \\\n",
       "0  80.0              2  [[[191, 153, 194], [191, 154, 198], [189, 152,...   \n",
       "1  80.0              2  [[[23, 13, 22], [25, 15, 24], [24, 16, 31], [3...   \n",
       "2  80.0              2  [[[186, 126, 136], [190, 136, 149], [195, 137,...   \n",
       "3  80.0              2  [[[24, 11, 18], [27, 13, 26], [39, 23, 33], [6...   \n",
       "4  75.0              2  [[[136, 91, 114], [148, 104, 127], [161, 117, ...   \n",
       "\n",
       "   dx_akiec  dx_bcc  dx_bkl  dx_df  dx_mel  dx_nv  dx_vasc  ...  \\\n",
       "0         0       0       1      0       0      0        0  ...   \n",
       "1         0       0       1      0       0      0        0  ...   \n",
       "2         0       0       1      0       0      0        0  ...   \n",
       "3         0       0       1      0       0      0        0  ...   \n",
       "4         0       0       1      0       0      0        0  ...   \n",
       "\n",
       "   localization_trunk  localization_unknown  localization_upper extremity  \\\n",
       "0                   0                     0                             0   \n",
       "1                   0                     0                             0   \n",
       "2                   0                     0                             0   \n",
       "3                   0                     0                             0   \n",
       "4                   0                     0                             0   \n",
       "\n",
       "   cell_type_Actinic keratoses  cell_type_Basal cell carcinoma  \\\n",
       "0                            0                               0   \n",
       "1                            0                               0   \n",
       "2                            0                               0   \n",
       "3                            0                               0   \n",
       "4                            0                               0   \n",
       "\n",
       "   cell_type_Benign keratosis-like lesions   cell_type_Dermatofibroma  \\\n",
       "0                                         1                         0   \n",
       "1                                         1                         0   \n",
       "2                                         1                         0   \n",
       "3                                         1                         0   \n",
       "4                                         1                         0   \n",
       "\n",
       "   cell_type_Melanocytic nevi  cell_type_Vascular lesions  \\\n",
       "0                           0                           0   \n",
       "1                           0                           0   \n",
       "2                           0                           0   \n",
       "3                           0                           0   \n",
       "4                           0                           0   \n",
       "\n",
       "   cell_type_dermatofibroma  \n",
       "0                         0  \n",
       "1                         0  \n",
       "2                         0  \n",
       "3                         0  \n",
       "4                         0  \n",
       "\n",
       "[5 rows x 39 columns]"
      ]
     },
     "execution_count": 6,
     "metadata": {},
     "output_type": "execute_result"
    }
   ],
   "source": [
    "df=encode_and_bind(df, 'dx')\n",
    "df= encode_and_bind(df, 'dx_type')\n",
    "df=encode_and_bind(df, 'sex')\n",
    "df=encode_and_bind(df, 'localization')\n",
    "df=encode_and_bind(df, 'cell_type')\n",
    "df.head()"
   ]
  },
  {
   "cell_type": "code",
   "execution_count": 7,
   "metadata": {
    "scrolled": true
   },
   "outputs": [
    {
     "data": {
      "text/plain": [
       "age                                         float64\n",
       "cell_type_idx                                 int64\n",
       "images                                       object\n",
       "dx_akiec                                      uint8\n",
       "dx_bcc                                        uint8\n",
       "dx_bkl                                        uint8\n",
       "dx_df                                         uint8\n",
       "dx_mel                                        uint8\n",
       "dx_nv                                         uint8\n",
       "dx_vasc                                       uint8\n",
       "dx_type_confocal                              uint8\n",
       "dx_type_consensus                             uint8\n",
       "dx_type_follow_up                             uint8\n",
       "dx_type_histo                                 uint8\n",
       "sex_female                                    uint8\n",
       "sex_male                                      uint8\n",
       "sex_unknown                                   uint8\n",
       "localization_abdomen                          uint8\n",
       "localization_acral                            uint8\n",
       "localization_back                             uint8\n",
       "localization_chest                            uint8\n",
       "localization_ear                              uint8\n",
       "localization_face                             uint8\n",
       "localization_foot                             uint8\n",
       "localization_genital                          uint8\n",
       "localization_hand                             uint8\n",
       "localization_lower extremity                  uint8\n",
       "localization_neck                             uint8\n",
       "localization_scalp                            uint8\n",
       "localization_trunk                            uint8\n",
       "localization_unknown                          uint8\n",
       "localization_upper extremity                  uint8\n",
       "cell_type_Actinic keratoses                   uint8\n",
       "cell_type_Basal cell carcinoma                uint8\n",
       "cell_type_Benign keratosis-like lesions       uint8\n",
       "cell_type_Dermatofibroma                      uint8\n",
       "cell_type_Melanocytic nevi                    uint8\n",
       "cell_type_Vascular lesions                    uint8\n",
       "cell_type_dermatofibroma                      uint8\n",
       "dtype: object"
      ]
     },
     "execution_count": 7,
     "metadata": {},
     "output_type": "execute_result"
    }
   ],
   "source": [
    "df.dtypes"
   ]
  },
  {
   "cell_type": "code",
   "execution_count": 8,
   "metadata": {},
   "outputs": [],
   "source": [
    "features= df.drop(['cell_type_idx'], axis=1)\n",
    "target= df['cell_type_idx']"
   ]
  },
  {
   "cell_type": "code",
   "execution_count": 9,
   "metadata": {},
   "outputs": [
    {
     "name": "stdout",
     "output_type": "stream",
     "text": [
      "(10015, 38)\n",
      "(10015,)\n"
     ]
    }
   ],
   "source": [
    "print(features.shape)\n",
    "print(target.shape)"
   ]
  },
  {
   "cell_type": "code",
   "execution_count": 10,
   "metadata": {
    "scrolled": true
   },
   "outputs": [
    {
     "data": {
      "text/plain": [
       "<matplotlib.axes._subplots.AxesSubplot at 0x1c3f0e3090>"
      ]
     },
     "execution_count": 10,
     "metadata": {},
     "output_type": "execute_result"
    },
    {
     "data": {
      "image/png": "[encoded data removed]",
      "text/plain": [
       "<Figure size 432x288 with 1 Axes>"
      ]
     },
     "metadata": {
      "needs_background": "light"
     },
     "output_type": "display_data"
    }
   ],
   "source": [
    "target.value_counts().plot(kind='bar')"
   ]
  },
  {
   "cell_type": "code",
   "execution_count": 11,
   "metadata": {},
   "outputs": [],
   "source": [
    "#train test split\n",
    "feature_train, feature_test, target_train, target_test= train_test_split(\n",
    "    features, target, test_size=0.30, random_state=444)"
   ]
  },
  {
   "cell_type": "code",
   "execution_count": 12,
   "metadata": {},
   "outputs": [
    {
     "data": {
      "text/plain": [
       "9552    4\n",
       "4820    4\n",
       "9341    4\n",
       "9895    0\n",
       "9381    4\n",
       "       ..\n",
       "6631    4\n",
       "948     2\n",
       "3336    4\n",
       "8983    4\n",
       "7555    4\n",
       "Name: cell_type_idx, Length: 7010, dtype: int64"
      ]
     },
     "execution_count": 12,
     "metadata": {},
     "output_type": "execute_result"
    }
   ],
   "source": [
    "target_train"
   ]
  },
  {
   "cell_type": "code",
   "execution_count": 13,
   "metadata": {},
   "outputs": [
    {
     "data": {
      "text/plain": [
       "<matplotlib.axes._subplots.AxesSubplot at 0x1c3f513410>"
      ]
     },
     "execution_count": 13,
     "metadata": {},
     "output_type": "execute_result"
    },
    {
     "data": {
      "image/png": "[encoded data removed]",
      "text/plain": [
       "<Figure size 432x288 with 1 Axes>"
      ]
     },
     "metadata": {
      "needs_background": "light"
     },
     "output_type": "display_data"
    }
   ],
   "source": [
    "target_train.value_counts().plot(kind='bar')"
   ]
  },
  {
   "cell_type": "code",
   "execution_count": 14,
   "metadata": {
    "scrolled": false
   },
   "outputs": [
    {
     "data": {
      "text/plain": [
       "<matplotlib.axes._subplots.AxesSubplot at 0x1c3f668c10>"
      ]
     },
     "execution_count": 14,
     "metadata": {},
     "output_type": "execute_result"
    },
    {
     "data": {
      "image/png": "[encoded data removed]",
      "text/plain": [
       "<Figure size 432x288 with 1 Axes>"
      ]
     },
     "metadata": {
      "needs_background": "light"
     },
     "output_type": "display_data"
    }
   ],
   "source": [
    "target_test.value_counts().plot(kind='bar')"
   ]
  },
  {
   "cell_type": "code",
   "execution_count": 15,
   "metadata": {},
   "outputs": [],
   "source": [
    "# Perform one-hot encoding on the labels\n",
    "target_train = to_categorical(target_train, num_classes = 7)\n",
    "target_test = to_categorical(target_test, num_classes = 7)"
   ]
  },
  {
   "cell_type": "code",
   "execution_count": 16,
   "metadata": {},
   "outputs": [
    {
     "data": {
      "text/plain": [
       "array([[0., 0., 0., ..., 1., 0., 0.],\n",
       "       [0., 0., 0., ..., 1., 0., 0.],\n",
       "       [0., 0., 0., ..., 1., 0., 0.],\n",
       "       ...,\n",
       "       [0., 0., 0., ..., 1., 0., 0.],\n",
       "       [0., 0., 0., ..., 1., 0., 0.],\n",
       "       [0., 0., 0., ..., 1., 0., 0.]], dtype=float32)"
      ]
     },
     "execution_count": 16,
     "metadata": {},
     "output_type": "execute_result"
    }
   ],
   "source": [
    "target_train"
   ]
  },
  {
   "cell_type": "code",
   "execution_count": 17,
   "metadata": {},
   "outputs": [
    {
     "name": "stdout",
     "output_type": "stream",
     "text": [
      "total feature training features:  7010\n",
      "total feature testing features:  3005\n",
      "total target training features:  7010\n",
      "total target testing features:  3005\n",
      "feature train shape:  (7010, 38)\n",
      "feature test shape:  (3005, 38)\n",
      "train train shape:  (7010, 7)\n",
      "train test shape:  (3005, 7)\n"
     ]
    }
   ],
   "source": [
    "print('total feature training features: ', len(feature_train))\n",
    "print('total feature testing features: ', len(feature_test))\n",
    "print('total target training features: ', len(target_train))\n",
    "print('total target testing features: ', len(target_test))\n",
    "print('feature train shape: ', feature_train.shape)\n",
    "print('feature test shape: ', feature_test.shape)\n",
    "print('train train shape: ', target_train.shape)\n",
    "print('train test shape: ', target_test.shape)"
   ]
  },
  {
   "cell_type": "code",
   "execution_count": 18,
   "metadata": {},
   "outputs": [],
   "source": [
    "#standardize the pictures\n",
    "x_train = np.asarray(feature_train['images'].tolist())\n",
    "x_train_mean = np.mean(x_train)\n",
    "x_train_std = np.std(x_train)\n",
    "feature_train = (x_train - x_train_mean)/x_train_std"
   ]
  },
  {
   "cell_type": "code",
   "execution_count": 19,
   "metadata": {},
   "outputs": [],
   "source": [
    "x_test = np.asarray(feature_test['images'].tolist())\n",
    "x_test_mean = np.mean(x_test)\n",
    "x_test_std = np.std(x_test)\n",
    "feature_test = (x_test - x_test_mean)/x_test_std"
   ]
  },
  {
   "cell_type": "code",
   "execution_count": 20,
   "metadata": {},
   "outputs": [
    {
     "data": {
      "text/plain": [
       "(7010, 75, 100, 3)"
      ]
     },
     "execution_count": 20,
     "metadata": {},
     "output_type": "execute_result"
    }
   ],
   "source": [
    "feature_train.shape"
   ]
  },
  {
   "cell_type": "code",
   "execution_count": 21,
   "metadata": {},
   "outputs": [
    {
     "data": {
      "text/plain": [
       "(3005, 75, 100, 3)"
      ]
     },
     "execution_count": 21,
     "metadata": {},
     "output_type": "execute_result"
    }
   ],
   "source": [
    "feature_test.shape"
   ]
  },
  {
   "cell_type": "code",
   "execution_count": 22,
   "metadata": {},
   "outputs": [],
   "source": [
    "input_shape = (75, 100, 3)\n",
    "num_classes = 7"
   ]
  },
  {
   "cell_type": "code",
   "execution_count": 23,
   "metadata": {},
   "outputs": [],
   "source": [
    "optimizer= keras.optimizers.Adam(lr=0.001, beta_1=0.9, beta_2=0.999, epsilon=None, decay=0.0, amsgrad=False)"
   ]
  },
  {
   "cell_type": "code",
   "execution_count": 24,
   "metadata": {},
   "outputs": [],
   "source": [
    "data= ImageDataGenerator(featurewise_center = False, \n",
    "                  samplewise_center = False,\n",
    "                  rotation_range = 45, \n",
    "                  height_shift_range = 0.1, \n",
    "                  zoom_range = [0.5, 1.50],  \n",
    "                  horizontal_flip = True, \n",
    "                  vertical_flip = True)\n",
    "\n",
    "data.fit(x_train)  "
   ]
  },
  {
   "cell_type": "code",
   "execution_count": 25,
   "metadata": {},
   "outputs": [],
   "source": [
    "# Set a learning rate annealer\n",
    "lr_reduction = ReduceLROnPlateau(monitor='val_accuracy', #checks validation accuracy\n",
    "                                            patience=2, \n",
    "                                            verbose=1, \n",
    "                                            factor=0.3, \n",
    "                                            min_lr=0.0001)"
   ]
  },
  {
   "cell_type": "code",
   "execution_count": 26,
   "metadata": {},
   "outputs": [],
   "source": [
    "model= Sequential()\n",
    "model.add(Convolution2D(32,kernel_size=(3, 3), activation='relu',padding = 'Same'))\n",
    "model.add(MaxPooling2D(pool_size = (2, 2)))\n",
    "model.add(Dropout(.3))\n",
    "\n",
    "model.add(Convolution2D(64,(3,3), input_shape=input_shape, activation='relu'))\n",
    "model.add(Convolution2D(64,kernel_size=(3, 3), activation='relu'))\n",
    "model.add(MaxPooling2D(pool_size=(2, 2)))\n",
    "model.add(Dropout(0.5))\n",
    "\n",
    "model.add(Convolution2D(64,(3,3), input_shape=input_shape, activation='relu'))\n",
    "model.add(Convolution2D(64,kernel_size=(3, 3), activation='relu'))\n",
    "model.add(MaxPooling2D(pool_size=(2, 2)))\n",
    "model.add(Dropout(0.2))\n",
    "\n",
    "model.add(Flatten())\n",
    "model.add(Dense(128, activation='relu'))\n",
    "model.add(Dropout(0.5))\n",
    "model.add(Dense(num_classes, activation='softmax'))"
   ]
  },
  {
   "cell_type": "code",
   "execution_count": 24,
   "metadata": {},
   "outputs": [],
   "source": [
    "model.compile(loss=keras.losses.categorical_crossentropy,\n",
    "              optimizer=keras.optimizers.Adadelta(),\n",
    "              metrics=[['accuracy', 'mse']])"
   ]
  },
  {
   "cell_type": "code",
   "execution_count": 25,
   "metadata": {},
   "outputs": [
    {
     "name": "stdout",
     "output_type": "stream",
     "text": [
      "Train on 7010 samples, validate on 3005 samples\n",
      "Epoch 1/15\n",
      "7010/7010 [==============================] - 74s 11ms/step - loss: 1.0926 - accuracy: 0.6601 - mse: 0.0722 - val_loss: 0.9954 - val_accuracy: 0.6719 - val_mse: 0.0648\n",
      "Epoch 2/15\n",
      "7010/7010 [==============================] - 74s 11ms/step - loss: 0.9383 - accuracy: 0.6772 - mse: 0.0634 - val_loss: 0.8915 - val_accuracy: 0.6899 - val_mse: 0.0603\n",
      "Epoch 3/15\n",
      "7010/7010 [==============================] - 74s 11ms/step - loss: 0.8902 - accuracy: 0.6839 - mse: 0.0609 - val_loss: 0.8437 - val_accuracy: 0.6952 - val_mse: 0.0579\n",
      "Epoch 4/15\n",
      "7010/7010 [==============================] - 74s 11ms/step - loss: 0.8640 - accuracy: 0.6950 - mse: 0.0593 - val_loss: 1.1661 - val_accuracy: 0.5710 - val_mse: 0.0789\n",
      "Epoch 5/15\n",
      "7010/7010 [==============================] - 75s 11ms/step - loss: 0.8318 - accuracy: 0.7011 - mse: 0.0573 - val_loss: 0.9450 - val_accuracy: 0.6346 - val_mse: 0.0663\n",
      "\n",
      "Epoch 00005: ReduceLROnPlateau reducing learning rate to 0.3.\n",
      "Epoch 6/15\n",
      "7010/7010 [==============================] - 75s 11ms/step - loss: 0.7750 - accuracy: 0.7201 - mse: 0.0542 - val_loss: 0.8902 - val_accuracy: 0.6845 - val_mse: 0.0616\n",
      "Epoch 7/15\n",
      "7010/7010 [==============================] - 75s 11ms/step - loss: 0.7595 - accuracy: 0.7233 - mse: 0.0535 - val_loss: 0.7856 - val_accuracy: 0.7215 - val_mse: 0.0546\n",
      "Epoch 8/15\n",
      "7010/7010 [==============================] - 75s 11ms/step - loss: 0.7405 - accuracy: 0.7284 - mse: 0.0523 - val_loss: 0.7819 - val_accuracy: 0.7181 - val_mse: 0.0545\n",
      "Epoch 9/15\n",
      "7010/7010 [==============================] - 75s 11ms/step - loss: 0.7257 - accuracy: 0.7331 - mse: 0.0515 - val_loss: 0.8649 - val_accuracy: 0.6998 - val_mse: 0.0592\n",
      "\n",
      "Epoch 00009: ReduceLROnPlateau reducing learning rate to 0.09000000357627869.\n",
      "Epoch 10/15\n",
      "7010/7010 [==============================] - 75s 11ms/step - loss: 0.6885 - accuracy: 0.7434 - mse: 0.0496 - val_loss: 0.7677 - val_accuracy: 0.7261 - val_mse: 0.0539\n",
      "Epoch 11/15\n",
      "7010/7010 [==============================] - 75s 11ms/step - loss: 0.6819 - accuracy: 0.7492 - mse: 0.0489 - val_loss: 0.7507 - val_accuracy: 0.7348 - val_mse: 0.0525\n",
      "Epoch 12/15\n",
      "7010/7010 [==============================] - 75s 11ms/step - loss: 0.6814 - accuracy: 0.7485 - mse: 0.0488 - val_loss: 0.7934 - val_accuracy: 0.7225 - val_mse: 0.0552\n",
      "Epoch 13/15\n",
      "7010/7010 [==============================] - 75s 11ms/step - loss: 0.6748 - accuracy: 0.7506 - mse: 0.0483 - val_loss: 0.7144 - val_accuracy: 0.7424 - val_mse: 0.0504\n",
      "Epoch 14/15\n",
      "7010/7010 [==============================] - 75s 11ms/step - loss: 0.6625 - accuracy: 0.7558 - mse: 0.0477 - val_loss: 0.7536 - val_accuracy: 0.7351 - val_mse: 0.0530\n",
      "Epoch 15/15\n",
      "7010/7010 [==============================] - 76s 11ms/step - loss: 0.6573 - accuracy: 0.7566 - mse: 0.0473 - val_loss: 0.7409 - val_accuracy: 0.7351 - val_mse: 0.0520\n",
      "\n",
      "Epoch 00015: ReduceLROnPlateau reducing learning rate to 0.027000001072883605.\n",
      "Test loss: 0.7409303385485428\n",
      "Test accuracy: 0.7351081371307373\n"
     ]
    }
   ],
   "source": [
    "batch_size = 50\n",
    "epochs = 15\n",
    "\n",
    "history = model.fit(feature_train, target_train,\n",
    "          batch_size=batch_size,\n",
    "          epochs=epochs,\n",
    "          verbose=1,\n",
    "          validation_data=(feature_test, target_test),\n",
    "                   callbacks=[lr_reduction])\n",
    "\n",
    "score = model.evaluate(feature_test, target_test, verbose=0)\n",
    "print('Test loss:', score[0])\n",
    "print('Test accuracy:', score[1])"
   ]
  },
  {
   "cell_type": "code",
   "execution_count": 26,
   "metadata": {
    "scrolled": false
   },
   "outputs": [
    {
     "data": {
      "image/png": "[encoded data removed]",
      "text/plain": [
       "<Figure size 432x288 with 2 Axes>"
      ]
     },
     "metadata": {
      "needs_background": "light"
     },
     "output_type": "display_data"
    }
   ],
   "source": [
    "fig, ax = plt.subplots(2,1)\n",
    "ax[0].plot(history.history['loss'], color='b', label=\"Training loss\")\n",
    "ax[0].plot(history.history['val_loss'], color='r', label=\"Validation loss\",axes =ax[0])\n",
    "legend = ax[0].legend(loc='best', shadow=True)\n",
    "\n",
    "ax[1].plot(history.history['accuracy'], color='b', label=\"Training accuracy\")\n",
    "ax[1].plot(history.history['val_accuracy'], color='r',label=\"Validation accuracy\")\n",
    "legend = ax[1].legend(loc='best', shadow=True)"
   ]
  },
  {
   "cell_type": "code",
   "execution_count": 27,
   "metadata": {},
   "outputs": [
    {
     "data": {
      "image/png": "[encoded data removed]",
      "text/plain": [
       "<Figure size 432x288 with 2 Axes>"
      ]
     },
     "metadata": {
      "needs_background": "light"
     },
     "output_type": "display_data"
    }
   ],
   "source": [
    "fig, ax = plt.subplots(2,1)\n",
    "ax[0].plot(history.history['loss'], color='b', label=\"Training loss\")\n",
    "ax[0].plot(history.history['val_loss'], color='r', label=\"Validation loss\",axes =ax[0])\n",
    "legend = ax[0].legend(loc='best', shadow=True)\n",
    "\n",
    "ax[1].plot(history.history['mse'], color='b', label=\"Training mse\")\n",
    "ax[1].plot(history.history['val_mse'], color='r',label=\"Validation mse\")\n",
    "legend = ax[1].legend(loc='best', shadow=True)"
   ]
  },
  {
   "cell_type": "code",
   "execution_count": 28,
   "metadata": {},
   "outputs": [
    {
     "data": {
      "image/png": "[encoded data removed]",
      "text/plain": [
       "<Figure size 432x288 with 2 Axes>"
      ]
     },
     "metadata": {
      "needs_background": "light"
     },
     "output_type": "display_data"
    }
   ],
   "source": [
    "def plot_confusion_matrix(cm, classes,\n",
    "                          normalize=False,\n",
    "                          title='Confusion matrix',\n",
    "                          cmap=plt.cm.Blues):\n",
    "    plt.imshow(cm, interpolation='nearest', cmap=cmap)\n",
    "    plt.title(title)\n",
    "    plt.colorbar()\n",
    "    tick_marks = np.arange(len(classes))\n",
    "    plt.xticks(tick_marks, classes, rotation=45)\n",
    "    plt.yticks(tick_marks, classes)\n",
    "\n",
    "    if normalize:\n",
    "        cm = cm.astype('float') / cm.sum(axis=1)[:, np.newaxis]\n",
    "\n",
    "    thresh = cm.max() / 2.\n",
    "    for i, j in itertools.product(range(cm.shape[0]), range(cm.shape[1])):\n",
    "        plt.text(j, i, cm[i, j],\n",
    "                 horizontalalignment=\"center\",\n",
    "                 color=\"white\" if cm[i, j] > thresh else \"black\")\n",
    "\n",
    "    plt.tight_layout()\n",
    "    plt.ylabel('True label')\n",
    "    plt.xlabel('Predicted label')\n",
    "\n",
    "# Predict the values from the validation dataset\n",
    "y_pred = model.predict(feature_test)\n",
    "# Convert predictions classes to one hot vectors \n",
    "y_pred_classes = np.argmax(y_pred,axis = 1) \n",
    "# Convert validation observations to one hot vectors\n",
    "y_true = np.argmax(target_test,axis = 1) \n",
    "# compute the confusion matrix\n",
    "confusion_mtx = confusion_matrix(y_true, y_pred_classes) \n",
    "# plot the confusion matrix\n",
    "plot_confusion_matrix(confusion_mtx, classes = range(7))"
   ]
  },
  {
   "cell_type": "code",
   "execution_count": 38,
   "metadata": {},
   "outputs": [],
   "source": [
    "#second model\n",
    "model= Sequential()\n",
    "model.add(Convolution2D(32,kernel_size=(3, 3), activation='relu',padding = 'Same'))\n",
    "model.add(MaxPooling2D(pool_size = (2, 2)))\n",
    "model.add(Dropout(.3))\n",
    "model.add(Convolution2D(64,(3,3), input_shape=input_shape, activation='relu'))\n",
    "model.add(Convolution2D(64,kernel_size=(3, 3), activation='relu'))\n",
    "model.add(MaxPooling2D(pool_size=(2, 2)))\n",
    "model.add(Dropout(0.5))\n",
    "\n",
    "model.add(Convolution2D(64,(3,3), input_shape=input_shape, activation='relu'))\n",
    "model.add(Convolution2D(64,kernel_size=(3, 3), activation='relu'))\n",
    "model.add(MaxPooling2D(pool_size=(2, 2)))\n",
    "model.add(Dropout(0.2))\n",
    "\n",
    "model.add(Flatten())\n",
    "model.add(Dense(128, activation='relu'))\n",
    "model.add(Dropout(0.5))\n",
    "model.add(Dense(num_classes, activation='softmax'))"
   ]
  },
  {
   "cell_type": "code",
   "execution_count": 39,
   "metadata": {},
   "outputs": [],
   "source": [
    "# Compile the model\n",
    "model.compile(loss=keras.losses.categorical_crossentropy,\n",
    "              optimizer=keras.optimizers.Adadelta(),\n",
    "              metrics=[['accuracy', 'mse']])"
   ]
  },
  {
   "cell_type": "code",
   "execution_count": 40,
   "metadata": {},
   "outputs": [
    {
     "name": "stdout",
     "output_type": "stream",
     "text": [
      "Train on 7010 samples, validate on 3005 samples\n",
      "Epoch 1/15\n",
      "7010/7010 [==============================] - 101s 14ms/step - loss: 1.0189 - accuracy: 0.6665 - mse: 0.0673 - val_loss: 0.8825 - val_accuracy: 0.6842 - val_mse: 0.0601\n",
      "Epoch 2/15\n",
      "7010/7010 [==============================] - 105s 15ms/step - loss: 0.8922 - accuracy: 0.6860 - mse: 0.0605 - val_loss: 0.8698 - val_accuracy: 0.6942 - val_mse: 0.0588\n",
      "Epoch 3/15\n",
      "7010/7010 [==============================] - 96s 14ms/step - loss: 0.8685 - accuracy: 0.6934 - mse: 0.0593 - val_loss: 1.0107 - val_accuracy: 0.6579 - val_mse: 0.0691\n",
      "Epoch 4/15\n",
      "7010/7010 [==============================] - 95s 14ms/step - loss: 0.8360 - accuracy: 0.6976 - mse: 0.0575 - val_loss: 1.1499 - val_accuracy: 0.6319 - val_mse: 0.0785\n",
      "\n",
      "Epoch 00004: ReduceLROnPlateau reducing learning rate to 0.3.\n",
      "Epoch 5/15\n",
      "7010/7010 [==============================] - 97s 14ms/step - loss: 0.7756 - accuracy: 0.7158 - mse: 0.0541 - val_loss: 1.0720 - val_accuracy: 0.6356 - val_mse: 0.0752\n",
      "Epoch 6/15\n",
      "7010/7010 [==============================] - 98s 14ms/step - loss: 0.7604 - accuracy: 0.7195 - mse: 0.0532 - val_loss: 0.8391 - val_accuracy: 0.7082 - val_mse: 0.0578\n",
      "Epoch 7/15\n",
      "7010/7010 [==============================] - 96s 14ms/step - loss: 0.7500 - accuracy: 0.7238 - mse: 0.0525 - val_loss: 0.8740 - val_accuracy: 0.7062 - val_mse: 0.0599\n",
      "Epoch 8/15\n",
      "7010/7010 [==============================] - 95s 14ms/step - loss: 0.7443 - accuracy: 0.7234 - mse: 0.0520 - val_loss: 0.8410 - val_accuracy: 0.7062 - val_mse: 0.0582\n",
      "\n",
      "Epoch 00008: ReduceLROnPlateau reducing learning rate to 0.09000000357627869.\n",
      "Epoch 9/15\n",
      "7010/7010 [==============================] - 96s 14ms/step - loss: 0.7133 - accuracy: 0.7325 - mse: 0.0503 - val_loss: 0.8260 - val_accuracy: 0.7052 - val_mse: 0.0574\n",
      "Epoch 10/15\n",
      "7010/7010 [==============================] - 96s 14ms/step - loss: 0.7103 - accuracy: 0.7365 - mse: 0.0498 - val_loss: 0.8341 - val_accuracy: 0.7005 - val_mse: 0.0579\n",
      "\n",
      "Epoch 00010: ReduceLROnPlateau reducing learning rate to 0.027000001072883605.\n",
      "Epoch 11/15\n",
      "7010/7010 [==============================] - 113s 16ms/step - loss: 0.6962 - accuracy: 0.7451 - mse: 0.0491 - val_loss: 0.8581 - val_accuracy: 0.7062 - val_mse: 0.0592\n",
      "Epoch 12/15\n",
      "7010/7010 [==============================] - 105s 15ms/step - loss: 0.6970 - accuracy: 0.7414 - mse: 0.0491 - val_loss: 0.8490 - val_accuracy: 0.6998 - val_mse: 0.0587\n",
      "\n",
      "Epoch 00012: ReduceLROnPlateau reducing learning rate to 0.008100000210106373.\n",
      "Epoch 13/15\n",
      "7010/7010 [==============================] - 112s 16ms/step - loss: 0.6946 - accuracy: 0.7389 - mse: 0.0490 - val_loss: 0.8609 - val_accuracy: 0.6965 - val_mse: 0.0596\n",
      "Epoch 14/15\n",
      "7010/7010 [==============================] - 119s 17ms/step - loss: 0.6903 - accuracy: 0.7471 - mse: 0.0486 - val_loss: 0.8615 - val_accuracy: 0.6972 - val_mse: 0.0597\n",
      "\n",
      "Epoch 00014: ReduceLROnPlateau reducing learning rate to 0.0024300000630319116.\n",
      "Epoch 15/15\n",
      "7010/7010 [==============================] - 109s 16ms/step - loss: 0.6886 - accuracy: 0.7469 - mse: 0.0484 - val_loss: 0.8588 - val_accuracy: 0.6985 - val_mse: 0.0595\n"
     ]
    }
   ],
   "source": [
    "epochs = 15 \n",
    "batch_size = 10\n",
    "history = model.fit(feature_train, target_train,\n",
    "                    batch_size=batch_size,\n",
    "                    epochs=epochs,verbose=1,\n",
    "                    validation_data=(feature_test, target_test),\n",
    "                   callbacks=[lr_reduction])"
   ]
  },
  {
   "cell_type": "code",
   "execution_count": 41,
   "metadata": {
    "scrolled": true
   },
   "outputs": [
    {
     "data": {
      "image/png": "[encoded data removed]",
      "text/plain": [
       "<Figure size 432x288 with 2 Axes>"
      ]
     },
     "metadata": {
      "needs_background": "light"
     },
     "output_type": "display_data"
    }
   ],
   "source": [
    "fig, ax = plt.subplots(2,1)\n",
    "ax[0].plot(history.history['loss'], color='b', label=\"Training loss\")\n",
    "ax[0].plot(history.history['val_loss'], color='r', label=\"Validation loss\",axes =ax[0])\n",
    "legend = ax[0].legend(loc='best', shadow=True)\n",
    "\n",
    "ax[1].plot(history.history['accuracy'], color='b', label=\"Training accuracy\")\n",
    "ax[1].plot(history.history['val_accuracy'], color='r',label=\"Validation accuracy\")\n",
    "legend = ax[1].legend(loc='best', shadow=True)"
   ]
  },
  {
   "cell_type": "code",
   "execution_count": 42,
   "metadata": {},
   "outputs": [
    {
     "data": {
      "image/png": "[encoded data removed]",
      "text/plain": [
       "<Figure size 432x288 with 2 Axes>"
      ]
     },
     "metadata": {
      "needs_background": "light"
     },
     "output_type": "display_data"
    }
   ],
   "source": [
    "fig, ax = plt.subplots(2,1)\n",
    "ax[0].plot(history.history['loss'], color='b', label=\"Training loss\")\n",
    "ax[0].plot(history.history['val_loss'], color='r', label=\"Validation loss\",axes =ax[0])\n",
    "legend = ax[0].legend(loc='best', shadow=True)\n",
    "\n",
    "ax[1].plot(history.history['mse'], color='b', label=\"Training mse\")\n",
    "ax[1].plot(history.history['val_mse'], color='r',label=\"Validation mse\")\n",
    "legend = ax[1].legend(loc='best', shadow=True)"
   ]
  },
  {
   "cell_type": "code",
   "execution_count": 43,
   "metadata": {},
   "outputs": [
    {
     "data": {
      "image/png": "[encoded data removed]",
      "text/plain": [
       "<Figure size 432x288 with 2 Axes>"
      ]
     },
     "metadata": {
      "needs_background": "light"
     },
     "output_type": "display_data"
    }
   ],
   "source": [
    "def plot_confusion_matrix(cm, classes,\n",
    "                          normalize=False,\n",
    "                          title='Confusion matrix',\n",
    "                          cmap=plt.cm.Blues):\n",
    "    plt.imshow(cm, interpolation='nearest', cmap=cmap)\n",
    "    plt.title(title)\n",
    "    plt.colorbar()\n",
    "    tick_marks = np.arange(len(classes))\n",
    "    plt.xticks(tick_marks, classes, rotation=45)\n",
    "    plt.yticks(tick_marks, classes)\n",
    "\n",
    "    if normalize:\n",
    "        cm = cm.astype('float') / cm.sum(axis=1)[:, np.newaxis]\n",
    "\n",
    "    thresh = cm.max() / 2.\n",
    "    for i, j in itertools.product(range(cm.shape[0]), range(cm.shape[1])):\n",
    "        plt.text(j, i, cm[i, j],\n",
    "                 horizontalalignment=\"center\",\n",
    "                 color=\"white\" if cm[i, j] > thresh else \"black\")\n",
    "\n",
    "    plt.tight_layout()\n",
    "    plt.ylabel('True label')\n",
    "    plt.xlabel('Predicted label')\n",
    "\n",
    "# Predict the values from the validation dataset\n",
    "y_pred = model.predict(feature_test)\n",
    "# Convert predictions classes to one hot vectors \n",
    "y_pred_classes = np.argmax(y_pred,axis = 1) \n",
    "# Convert validation observations to one hot vectors\n",
    "y_true = np.argmax(target_test,axis = 1) \n",
    "# compute the confusion matrix\n",
    "confusion_mtx = confusion_matrix(y_true, y_pred_classes) \n",
    "# plot the confusion matrix\n",
    "plot_confusion_matrix(confusion_mtx, classes = range(7))"
   ]
  },
  {
   "cell_type": "markdown",
   "metadata": {},
   "source": [
    "The best matrix I have seen so far. I will attempt to improve this through perhaps transfer learning. If that fails, then I would have to create a smaller dense layer as I think that may be the issue"
   ]
  },
  {
   "cell_type": "markdown",
   "metadata": {},
   "source": [
    "These needs to be more complex as I believe that it is just not being trained enough and converging as it is out of training parameters."
   ]
  },
  {
   "cell_type": "code",
   "execution_count": 60,
   "metadata": {},
   "outputs": [
    {
     "name": "stderr",
     "output_type": "stream",
     "text": [
      "/Users/iffy/opt/anaconda3/lib/python3.7/site-packages/keras/activations.py:235: UserWarning: Do not pass a layer instance (such as LeakyReLU) as the activation argument of another layer. Instead, advanced activation layers should be used just like any other layer in a model.\n",
      "  identifier=identifier.__class__.__name__))\n"
     ]
    },
    {
     "name": "stdout",
     "output_type": "stream",
     "text": [
      "Train on 7010 samples, validate on 3005 samples\n",
      "Epoch 1/15\n",
      "7010/7010 [==============================] - 14s 2ms/step - loss: 6.5627 - accuracy: 0.5207 - mse: 0.1241 - val_loss: 2.9667 - val_accuracy: 0.6592 - val_mse: 0.0893\n",
      "Epoch 2/15\n",
      "7010/7010 [==============================] - 12s 2ms/step - loss: 3.4215 - accuracy: 0.5347 - mse: 0.1115 - val_loss: 2.0066 - val_accuracy: 0.6689 - val_mse: 0.0794\n",
      "Epoch 3/15\n",
      "7010/7010 [==============================] - 12s 2ms/step - loss: 2.1329 - accuracy: 0.5776 - mse: 0.0931 - val_loss: 1.3962 - val_accuracy: 0.6719 - val_mse: 0.0697\n",
      "Epoch 4/15\n",
      "7010/7010 [==============================] - 12s 2ms/step - loss: 1.6298 - accuracy: 0.6171 - mse: 0.0811 - val_loss: 1.1232 - val_accuracy: 0.6662 - val_mse: 0.0670\n",
      "Epoch 5/15\n",
      "7010/7010 [==============================] - 12s 2ms/step - loss: 1.3651 - accuracy: 0.6371 - mse: 0.0756 - val_loss: 1.0247 - val_accuracy: 0.6769 - val_mse: 0.0640\n",
      "Epoch 6/15\n",
      "7010/7010 [==============================] - 12s 2ms/step - loss: 1.2146 - accuracy: 0.6442 - mse: 0.0725 - val_loss: 1.0931 - val_accuracy: 0.6762 - val_mse: 0.0682\n",
      "Epoch 7/15\n",
      "7010/7010 [==============================] - 12s 2ms/step - loss: 1.1247 - accuracy: 0.6539 - mse: 0.0703 - val_loss: 1.1534 - val_accuracy: 0.6489 - val_mse: 0.0705\n",
      "\n",
      "Epoch 00007: ReduceLROnPlateau reducing learning rate to 0.3.\n",
      "Epoch 8/15\n",
      "7010/7010 [==============================] - 12s 2ms/step - loss: 0.9702 - accuracy: 0.6783 - mse: 0.0645 - val_loss: 0.9138 - val_accuracy: 0.6928 - val_mse: 0.0604\n",
      "Epoch 9/15\n",
      "7010/7010 [==============================] - 12s 2ms/step - loss: 0.9054 - accuracy: 0.6870 - mse: 0.0620 - val_loss: 0.9050 - val_accuracy: 0.6952 - val_mse: 0.0600\n",
      "Epoch 10/15\n",
      "7010/7010 [==============================] - 12s 2ms/step - loss: 0.8997 - accuracy: 0.6874 - mse: 0.0617 - val_loss: 0.9009 - val_accuracy: 0.6882 - val_mse: 0.0609\n",
      "Epoch 11/15\n",
      "7010/7010 [==============================] - 12s 2ms/step - loss: 0.8799 - accuracy: 0.6974 - mse: 0.0605 - val_loss: 0.8878 - val_accuracy: 0.6958 - val_mse: 0.0594\n",
      "Epoch 12/15\n",
      "7010/7010 [==============================] - 12s 2ms/step - loss: 0.8672 - accuracy: 0.6940 - mse: 0.0604 - val_loss: 0.8856 - val_accuracy: 0.6962 - val_mse: 0.0596\n",
      "Epoch 13/15\n",
      "7010/7010 [==============================] - 12s 2ms/step - loss: 0.8524 - accuracy: 0.6966 - mse: 0.0596 - val_loss: 0.8971 - val_accuracy: 0.7002 - val_mse: 0.0601\n",
      "Epoch 14/15\n",
      "7010/7010 [==============================] - 13s 2ms/step - loss: 0.8393 - accuracy: 0.7004 - mse: 0.0589 - val_loss: 0.9250 - val_accuracy: 0.6982 - val_mse: 0.0615\n",
      "Epoch 15/15\n",
      "7010/7010 [==============================] - 12s 2ms/step - loss: 0.8372 - accuracy: 0.7041 - mse: 0.0588 - val_loss: 0.8899 - val_accuracy: 0.6922 - val_mse: 0.0597\n",
      "\n",
      "Epoch 00015: ReduceLROnPlateau reducing learning rate to 0.09000000357627869.\n"
     ]
    }
   ],
   "source": [
    "epochs = 15 \n",
    "batch_size = 10\n",
    "#a simpler model with less hidden networks and leakyrelu based on animal image classification\n",
    "model = Sequential()  \n",
    "model.add(Flatten(input_shape=input_shape))  \n",
    "model.add(Dense(100, activation=keras.layers.LeakyReLU(alpha=0.3)))  \n",
    "model.add(Dropout(0.5))  \n",
    "model.add(Dense(50, activation=keras.layers.LeakyReLU(alpha=0.3)))  \n",
    "model.add(Dropout(0.3)) \n",
    "model.add(Dense(num_classes, activation='softmax'))  \n",
    "\n",
    "model.compile(loss=keras.losses.categorical_crossentropy,\n",
    "              optimizer=keras.optimizers.Adadelta(),\n",
    "              metrics=[['accuracy', 'mse']])  \n",
    "\n",
    "history = model.fit(feature_train, target_train,\n",
    "                    batch_size=batch_size,\n",
    "                    epochs=epochs,verbose=1,\n",
    "                    validation_data=(feature_test, target_test),\n",
    "                   callbacks=[lr_reduction])"
   ]
  },
  {
   "cell_type": "code",
   "execution_count": 61,
   "metadata": {},
   "outputs": [
    {
     "data": {
      "image/png": "[encoded data removed]",
      "text/plain": [
       "<Figure size 432x288 with 2 Axes>"
      ]
     },
     "metadata": {
      "needs_background": "light"
     },
     "output_type": "display_data"
    }
   ],
   "source": [
    "fig, ax = plt.subplots(2,1)\n",
    "ax[0].plot(history.history['loss'], color='b', label=\"Training loss\")\n",
    "ax[0].plot(history.history['val_loss'], color='r', label=\"Validation loss\",axes =ax[0])\n",
    "legend = ax[0].legend(loc='best', shadow=True)\n",
    "\n",
    "ax[1].plot(history.history['accuracy'], color='b', label=\"Training accuracy\")\n",
    "ax[1].plot(history.history['val_accuracy'], color='r',label=\"Validation accuracy\")\n",
    "legend = ax[1].legend(loc='best', shadow=True)"
   ]
  },
  {
   "cell_type": "code",
   "execution_count": 62,
   "metadata": {},
   "outputs": [
    {
     "data": {
      "image/png": "[encoded data removed]",
      "text/plain": [
       "<Figure size 432x288 with 2 Axes>"
      ]
     },
     "metadata": {
      "needs_background": "light"
     },
     "output_type": "display_data"
    }
   ],
   "source": [
    "fig, ax = plt.subplots(2,1)\n",
    "ax[0].plot(history.history['loss'], color='b', label=\"Training loss\")\n",
    "ax[0].plot(history.history['val_loss'], color='r', label=\"Validation loss\",axes =ax[0])\n",
    "legend = ax[0].legend(loc='best', shadow=True)\n",
    "\n",
    "ax[1].plot(history.history['mse'], color='b', label=\"Training mse\")\n",
    "ax[1].plot(history.history['val_mse'], color='r',label=\"Validation mse\")\n",
    "legend = ax[1].legend(loc='best', shadow=True)"
   ]
  },
  {
   "cell_type": "code",
   "execution_count": 63,
   "metadata": {},
   "outputs": [
    {
     "data": {
      "image/png": "[encoded data removed]",
      "text/plain": [
       "<Figure size 432x288 with 2 Axes>"
      ]
     },
     "metadata": {
      "needs_background": "light"
     },
     "output_type": "display_data"
    }
   ],
   "source": [
    "def plot_confusion_matrix(cm, classes,\n",
    "                          normalize=False,\n",
    "                          title='Confusion matrix',\n",
    "                          cmap=plt.cm.Blues):\n",
    "    plt.imshow(cm, interpolation='nearest', cmap=cmap)\n",
    "    plt.title(title)\n",
    "    plt.colorbar()\n",
    "    tick_marks = np.arange(len(classes))\n",
    "    plt.xticks(tick_marks, classes, rotation=45)\n",
    "    plt.yticks(tick_marks, classes)\n",
    "\n",
    "    if normalize:\n",
    "        cm = cm.astype('float') / cm.sum(axis=1)[:, np.newaxis]\n",
    "\n",
    "    thresh = cm.max() / 2.\n",
    "    for i, j in itertools.product(range(cm.shape[0]), range(cm.shape[1])):\n",
    "        plt.text(j, i, cm[i, j],\n",
    "                 horizontalalignment=\"center\",\n",
    "                 color=\"white\" if cm[i, j] > thresh else \"black\")\n",
    "\n",
    "    plt.tight_layout()\n",
    "    plt.ylabel('True label')\n",
    "    plt.xlabel('Predicted label')\n",
    "\n",
    "# Predict the values from the validation dataset\n",
    "y_pred = model.predict(feature_test)\n",
    "# Convert predictions classes to one hot vectors \n",
    "y_pred_classes = np.argmax(y_pred,axis = 1) \n",
    "# Convert validation observations to one hot vectors\n",
    "y_true = np.argmax(target_test,axis = 1) \n",
    "# compute the confusion matrix\n",
    "confusion_mtx = confusion_matrix(y_true, y_pred_classes) \n",
    "# plot the confusion matrix\n",
    "plot_confusion_matrix(confusion_mtx, classes = range(7))"
   ]
  },
  {
   "cell_type": "markdown",
   "metadata": {},
   "source": [
    "Better than ReLu but worse than the model I have made previously."
   ]
  },
  {
   "cell_type": "code",
   "execution_count": 64,
   "metadata": {},
   "outputs": [
    {
     "name": "stdout",
     "output_type": "stream",
     "text": [
      "Train on 7010 samples, validate on 3005 samples\n",
      "Epoch 1/15\n",
      "7010/7010 [==============================] - 12s 2ms/step - loss: 2.3865 - accuracy: 0.6116 - mse: 0.0952 - val_loss: 1.1762 - val_accuracy: 0.6702 - val_mse: 0.0751\n",
      "Epoch 2/15\n",
      "7010/7010 [==============================] - 12s 2ms/step - loss: 1.3025 - accuracy: 0.6603 - mse: 0.0781 - val_loss: 1.1561 - val_accuracy: 0.6699 - val_mse: 0.0745\n",
      "Epoch 3/15\n",
      "7010/7010 [==============================] - 13s 2ms/step - loss: 1.2049 - accuracy: 0.6666 - mse: 0.0764 - val_loss: 1.2093 - val_accuracy: 0.6709 - val_mse: 0.0757\n",
      "Epoch 4/15\n",
      "7010/7010 [==============================] - 15s 2ms/step - loss: 1.1780 - accuracy: 0.6665 - mse: 0.0761 - val_loss: 1.1538 - val_accuracy: 0.6725 - val_mse: 0.0744\n",
      "Epoch 5/15\n",
      "7010/7010 [==============================] - 12s 2ms/step - loss: 1.2152 - accuracy: 0.6673 - mse: 0.0762 - val_loss: 1.1657 - val_accuracy: 0.6712 - val_mse: 0.0748\n",
      "Epoch 6/15\n",
      "7010/7010 [==============================] - 12s 2ms/step - loss: 1.1701 - accuracy: 0.6676 - mse: 0.0758 - val_loss: 1.1701 - val_accuracy: 0.6702 - val_mse: 0.0749\n",
      "\n",
      "Epoch 00006: ReduceLROnPlateau reducing learning rate to 0.3.\n",
      "Epoch 7/15\n",
      "7010/7010 [==============================] - 12s 2ms/step - loss: 1.1664 - accuracy: 0.6700 - mse: 0.0754 - val_loss: 1.1596 - val_accuracy: 0.6709 - val_mse: 0.0747\n",
      "Epoch 8/15\n",
      "7010/7010 [==============================] - 12s 2ms/step - loss: 1.1628 - accuracy: 0.6700 - mse: 0.0753 - val_loss: 1.1517 - val_accuracy: 0.6705 - val_mse: 0.0747\n",
      "\n",
      "Epoch 00008: ReduceLROnPlateau reducing learning rate to 0.09000000357627869.\n",
      "Epoch 9/15\n",
      "7010/7010 [==============================] - 12s 2ms/step - loss: 1.1456 - accuracy: 0.6690 - mse: 0.0753 - val_loss: 1.1552 - val_accuracy: 0.6702 - val_mse: 0.0747\n",
      "Epoch 10/15\n",
      "7010/7010 [==============================] - 12s 2ms/step - loss: 1.1431 - accuracy: 0.6708 - mse: 0.0749 - val_loss: 1.1548 - val_accuracy: 0.6702 - val_mse: 0.0746\n",
      "\n",
      "Epoch 00010: ReduceLROnPlateau reducing learning rate to 0.027000001072883605.\n",
      "Epoch 11/15\n",
      "7010/7010 [==============================] - 12s 2ms/step - loss: 1.1423 - accuracy: 0.6698 - mse: 0.0751 - val_loss: 1.1531 - val_accuracy: 0.6702 - val_mse: 0.0746\n",
      "Epoch 12/15\n",
      "7010/7010 [==============================] - 12s 2ms/step - loss: 1.1440 - accuracy: 0.6692 - mse: 0.0752 - val_loss: 1.1532 - val_accuracy: 0.6705 - val_mse: 0.0746\n",
      "\n",
      "Epoch 00012: ReduceLROnPlateau reducing learning rate to 0.008100000210106373.\n",
      "Epoch 13/15\n",
      "7010/7010 [==============================] - 12s 2ms/step - loss: 1.1429 - accuracy: 0.6703 - mse: 0.0749 - val_loss: 1.1531 - val_accuracy: 0.6705 - val_mse: 0.0746\n",
      "Epoch 14/15\n",
      "7010/7010 [==============================] - 12s 2ms/step - loss: 1.1428 - accuracy: 0.6700 - mse: 0.0750 - val_loss: 1.1532 - val_accuracy: 0.6705 - val_mse: 0.0746\n",
      "\n",
      "Epoch 00014: ReduceLROnPlateau reducing learning rate to 0.0024300000630319116.\n",
      "Epoch 15/15\n",
      "7010/7010 [==============================] - 12s 2ms/step - loss: 1.1437 - accuracy: 0.6698 - mse: 0.0753 - val_loss: 1.1533 - val_accuracy: 0.6705 - val_mse: 0.0746\n"
     ]
    }
   ],
   "source": [
    "epochs = 15 \n",
    "batch_size = 10\n",
    "#this model is from my animal image classifier but with relu\n",
    "model = Sequential()  \n",
    "model.add(Flatten(input_shape=input_shape))\n",
    "model.add(Dense(100, activation='relu'))  \n",
    "model.add(Dropout(0.5))  \n",
    "model.add(Dense(50, activation='relu')) \n",
    "model.add(Dropout(0.3)) \n",
    "model.add(Dense(num_classes, activation='softmax'))  \n",
    "\n",
    "model.compile(loss=keras.losses.categorical_crossentropy,\n",
    "              optimizer=keras.optimizers.Adadelta(),\n",
    "              metrics=[['accuracy', 'mse']])  \n",
    "\n",
    "history = model.fit(feature_train, target_train,\n",
    "                    batch_size=batch_size,\n",
    "                    epochs=epochs,verbose=1,\n",
    "                    validation_data=(feature_test, target_test),\n",
    "                   callbacks=[lr_reduction])"
   ]
  },
  {
   "cell_type": "code",
   "execution_count": 65,
   "metadata": {},
   "outputs": [
    {
     "data": {
      "image/png": "[encoded data removed]",
      "text/plain": [
       "<Figure size 432x288 with 2 Axes>"
      ]
     },
     "metadata": {
      "needs_background": "light"
     },
     "output_type": "display_data"
    }
   ],
   "source": [
    "fig, ax = plt.subplots(2,1)\n",
    "ax[0].plot(history.history['loss'], color='b', label=\"Training loss\")\n",
    "ax[0].plot(history.history['val_loss'], color='r', label=\"Validation loss\",axes =ax[0])\n",
    "legend = ax[0].legend(loc='best', shadow=True)\n",
    "\n",
    "ax[1].plot(history.history['accuracy'], color='b', label=\"Training accuracy\")\n",
    "ax[1].plot(history.history['val_accuracy'], color='r',label=\"Validation accuracy\")\n",
    "legend = ax[1].legend(loc='best', shadow=True)"
   ]
  },
  {
   "cell_type": "code",
   "execution_count": 66,
   "metadata": {},
   "outputs": [
    {
     "data": {
      "image/png": "[encoded data removed]",
      "text/plain": [
       "<Figure size 432x288 with 2 Axes>"
      ]
     },
     "metadata": {
      "needs_background": "light"
     },
     "output_type": "display_data"
    }
   ],
   "source": [
    "fig, ax = plt.subplots(2,1)\n",
    "ax[0].plot(history.history['loss'], color='b', label=\"Training loss\")\n",
    "ax[0].plot(history.history['val_loss'], color='r', label=\"Validation loss\",axes =ax[0])\n",
    "legend = ax[0].legend(loc='best', shadow=True)\n",
    "\n",
    "ax[1].plot(history.history['mse'], color='b', label=\"Training mse\")\n",
    "ax[1].plot(history.history['val_mse'], color='r',label=\"Validation mse\")\n",
    "legend = ax[1].legend(loc='best', shadow=True)"
   ]
  },
  {
   "cell_type": "code",
   "execution_count": 67,
   "metadata": {},
   "outputs": [
    {
     "data": {
      "image/png": "[encoded data removed]",
      "text/plain": [
       "<Figure size 432x288 with 2 Axes>"
      ]
     },
     "metadata": {
      "needs_background": "light"
     },
     "output_type": "display_data"
    }
   ],
   "source": [
    "def plot_confusion_matrix(cm, classes,\n",
    "                          normalize=False,\n",
    "                          title='Confusion matrix',\n",
    "                          cmap=plt.cm.Blues):\n",
    "    plt.imshow(cm, interpolation='nearest', cmap=cmap)\n",
    "    plt.title(title)\n",
    "    plt.colorbar()\n",
    "    tick_marks = np.arange(len(classes))\n",
    "    plt.xticks(tick_marks, classes, rotation=45)\n",
    "    plt.yticks(tick_marks, classes)\n",
    "\n",
    "    if normalize:\n",
    "        cm = cm.astype('float') / cm.sum(axis=1)[:, np.newaxis]\n",
    "\n",
    "    thresh = cm.max() / 2.\n",
    "    for i, j in itertools.product(range(cm.shape[0]), range(cm.shape[1])):\n",
    "        plt.text(j, i, cm[i, j],\n",
    "                 horizontalalignment=\"center\",\n",
    "                 color=\"white\" if cm[i, j] > thresh else \"black\")\n",
    "\n",
    "    plt.tight_layout()\n",
    "    plt.ylabel('True label')\n",
    "    plt.xlabel('Predicted label')\n",
    "\n",
    "# Predict the values from the validation dataset\n",
    "y_pred = model.predict(feature_test)\n",
    "# Convert predictions classes to one hot vectors \n",
    "y_pred_classes = np.argmax(y_pred,axis = 1) \n",
    "# Convert validation observations to one hot vectors\n",
    "y_true = np.argmax(target_test,axis = 1) \n",
    "# compute the confusion matrix\n",
    "confusion_mtx = confusion_matrix(y_true, y_pred_classes) \n",
    "# plot the confusion matrix\n",
    "plot_confusion_matrix(confusion_mtx, classes = range(7))"
   ]
  },
  {
   "cell_type": "markdown",
   "metadata": {},
   "source": [
    "Confusion Matrix failed to predict properly, even with high accuarcy. Showing cases of misidentification and possible overfitting."
   ]
  },
  {
   "cell_type": "code",
   "execution_count": null,
   "metadata": {},
   "outputs": [],
   "source": []
  }
 ],
 "metadata": {
  "kernelspec": {
   "display_name": "Python 3",
   "language": "python",
   "name": "python3"
  },
  "language_info": {
   "codemirror_mode": {
    "name": "ipython",
    "version": 3
   },
   "file_extension": ".py",
   "mimetype": "text/x-python",
   "name": "python",
   "nbconvert_exporter": "python",
   "pygments_lexer": "ipython3",
   "version": "3.7.4"
  }
 },
 "nbformat": 4,
 "nbformat_minor": 2
}
